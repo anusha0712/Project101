{
 "cells": [
  {
   "cell_type": "markdown",
   "metadata": {},
   "source": [
    "# Youth Perception of Sexual Education in India\n",
    "****"
   ]
  },
  {
   "cell_type": "markdown",
   "metadata": {},
   "source": [
    "For my project, I have chosen to analyze data from a survey I conducted in May 2020 with the goal of discerning what the youth of India thinks about the Indian Sexual Education curriculum. While India continues to make phenomenal progress in global fields, there is one particular platform in which it still lacks direction and growth - Education, particularly **Sexual Education (Sex Ed)**. While countries like USA have State specific laws that target the implementation of Sex Ed in schools, until very recently, India was still debating the merits of including it in the curriculum at all. A recent Instagram scandal in May 2020, termed the **'Bois Locker Room'** made headlines when a group of adolescent boys were outed by their classmates for a group chat that perpetuated rape culture, objectification of women and criminal behaviors of morphing private photographs of women. While there are many nuances to this issue, it brought to the forefront the need to destigmatize sexual culture amongst teenagers and facilitate dialogue within the education systems on topics that are still considered taboo - topics such as safe sex, gender identity, attraction, consent etc. from more than a paltry biological point of view. \n",
    "\n",
    "The 'Bois Locker Room' event made me feel complicit to a system that deliberately denies students the tools to make well-adjusted choices about their lives and instead polices them morally, resulting in disastrous consequences. I've always thought that inculcating Sex Ed topics into a supportive and fact-based school curriculum would prevent the hazard of misinformation that teenagers have to sift through every day. In a study conducted by the Indian Ministry of Women and Child development in conjunction with UNICEF in 2007 showed that 53% of children in India faced sexual abuse of some kind and a majority of those went unreported. Academia has shown time and again that Sex Ed plays a major role in sexual violence prevention. Drawing from that, it is also my opinion that de-stigmatization and normalization of sexual topics will lead to better adjusted adolescents who understand concepts of consent & safe sex and will eventually lead to lower sexual harassment cases or crimes. \n",
    "\n",
    "## Survey Parameters\n",
    "\n",
    "The survey was conducted via Google forms and was anonymous. It was restricted to Indians in the age-group of 16-28. Any Board of educational curricula (International Baccalaureate, ICSE, IGCSE etc.) was accepted as long as the individual completed High School in India. The main question I ask in this survey, is the following:\n",
    "_<h2><center>“What do the youth perceive sexual education in India as?”</center></h1>_\n",
    "I picked this question given that the main goal of the research is to present it to Education Technology or Educational Reform institutions in order to help curate a curriculum that caters to what the youth wants. I believe that the survey will indicate their dissatisfaction with the current curriculum. It's an ambitious question and to help break it down, I have organized the notebook into sections that correspond to different questions. Currently, the survey has 112 responses.\n",
    "\n",
    "## Process \n",
    "\n",
    "### 1. Demographic Survey Data\n",
    "- Analyze and visualize the demographic distribution of the participants in order contextualize findings and understand potential biases in the data set. For instance, is the sample representative of my target population of the youth of India? \n",
    "\n",
    "### 2. Perceptual and Curricular Data\n",
    "- Out of a corpus of topics covering \"taboo\" topics directly or indirectly connected to Sex Ed, which topics were considered the most important by the participants?\n",
    "- How often were these topics addressed by their school? \n",
    "- Have the participants experienced sexual policing by an authority figure in their schooling environment?\n",
    "\n",
    "    **Tools:** For both (1) and (2), I used the pandas library for data manipulation and matplotlib and seaborn libraries for visualizing the results. \n",
    "    \n",
    "### 3. Textual Analysis of Free Response Data\n",
    "- Extract topics from the answers of the free response question in the survey \n",
    "\n",
    "    **Workflow**:\n",
    "    1. Text-preprocessing by removing punctuations and stopwords as well as tokenization.\n",
    "    2. Analyzing word frequencies and visualizing them using Word cloud and Bar plots. \n",
    "    3. Using the scikit-learn library (TfidfVectorizer) to create the Document-Term Matrix\n",
    "    4. Fitting it to a LDA model\n",
    "    5. Visualizing extracted topics using pyLDAvis\n",
    "    6. Analyzing the contextual similarity of the words using a Word2Vec model\n",
    "    7. Interpreting that using a combination of Principle Component Analysis (PCA) and T-distributed stochastic neighbor embedding (TSNE).\n"
   ]
  },
  {
   "cell_type": "code",
   "execution_count": 18,
   "metadata": {},
   "outputs": [],
   "source": [
    "#!pip install pyLDAvis\n",
    "#!pip install wordcloud\n",
    "from collections import Counter\n",
    "import gensim\n",
    "import matplotlib.pyplot as plt\n",
    "%matplotlib inline\n",
    "import nltk\n",
    "from nltk.corpus import stopwords\n",
    "from nltk.corpus import movie_reviews\n",
    "import numpy as np\n",
    "import os\n",
    "import pandas as pd\n",
    "import pyLDAvis.sklearn\n",
    "import re\n",
    "import seaborn as sns\n",
    "from sklearn.model_selection import cross_val_score, train_test_split\n",
    "from sklearn.decomposition import LatentDirichletAllocation, PCA\n",
    "from sklearn.linear_model import LogisticRegression\n",
    "from sklearn.feature_extraction.text import CountVectorizer, TfidfVectorizer, TfidfTransformer\n",
    "from sklearn.pipeline import Pipeline\n",
    "from sklearn.utils import shuffle\n",
    "from sklearn.manifold import TSNE\n",
    "import spacy\n",
    "from wordcloud import WordCloud\n",
    "\n",
    "import warnings\n",
    "warnings.filterwarnings(\"ignore\", category=DeprecationWarning)"
   ]
  },
  {
   "cell_type": "code",
   "execution_count": 19,
   "metadata": {},
   "outputs": [
    {
     "data": {
      "text/plain": [
       "'/Users/anushasubramanian/Desktop/Project101'"
      ]
     },
     "execution_count": 19,
     "metadata": {},
     "output_type": "execute_result"
    }
   ],
   "source": [
    "# Where am I?\n",
    "%pwd"
   ]
  },
  {
   "cell_type": "code",
   "execution_count": 20,
   "metadata": {},
   "outputs": [],
   "source": [
    "survey = pd.read_csv(\"Education_survey.csv\")\n",
    "del survey[\"Add Comments\"]"
   ]
  },
  {
   "cell_type": "markdown",
   "metadata": {},
   "source": [
    "# DEMOGRAPHIC SURVEY DATA\n",
    "***\n",
    "With the aim of understanding the distribution of participants and putting the data in context of accessible services, belief systems, and how representative the sample is. It is particularly relevant in a county such as India where pockets of rural and urbanism co-exist.\n"
   ]
  },
  {
   "cell_type": "markdown",
   "metadata": {},
   "source": [
    "## Age & High School City of Participants\n",
    "\n",
    "- Age: Current Age\n",
    "\n",
    "- High School City: The city participants graduated high school from. "
   ]
  },
  {
   "cell_type": "code",
   "execution_count": 21,
   "metadata": {
    "scrolled": true
   },
   "outputs": [],
   "source": [
    "#extract unique age data from survey\n",
    "age = dict(survey[\"Age\"].value_counts())\n",
    "age_df = pd.DataFrame()\n",
    "age_df[\"age\"] = age.keys()\n",
    "age_df[\"frequency\"] = age.values()\n",
    "\n",
    "#extract and clean location data \n",
    "city = dict(survey[\"High School City\"].value_counts())\n",
    "city[\"Dehradun\"] = city[\"Dehradun \"] + city[\"Calcutta, Dehradun \"] + city[\"Doon\"]\n",
    "del city[\"Dehradun \"], city[\"Calcutta, Dehradun \"], city[\"Doon\"]\n",
    "city_df = pd.DataFrame()\n",
    "city_df[\"City\"] = city.keys()\n",
    "city_df[\"Frequency\"] = city.values()"
   ]
  },
  {
   "cell_type": "code",
   "execution_count": 22,
   "metadata": {},
   "outputs": [
    {
     "data": {
      "image/png": "[encoded data removed]",
      "text/plain": [
       "<Figure size 1296x451.44 with 2 Axes>"
      ]
     },
     "metadata": {
      "needs_background": "light"
     },
     "output_type": "display_data"
    }
   ],
   "source": [
    "f, axes = plt.subplots(1, 2, figsize =(18,6.27))\n",
    "                      \n",
    "#plot age data\n",
    "#sns.set(rc={'figure.figsize':(10,6.27)})\n",
    "age_barplot = sns.barplot(x = \"frequency\", \n",
    "                         y = \"age\", \n",
    "                         data = age_df, \n",
    "                         orient = \"h\", palette = 'viridis', ax = axes[0])\n",
    "\n",
    "age_barplot.set(xlabel = \"Number of Participants\", ylabel = \"Age\", title = \"Age Distribution of Participants in Survey\");\n",
    "\n",
    "#plot location data\n",
    "sns.set(rc={'figure.figsize':(10,6.27)})\n",
    "city_barplot = sns.barplot(x = \"City\", \n",
    "                         y = \"Frequency\", \n",
    "                         data = city_df, \n",
    "                         orient = \"v\", palette = 'Set2', ax = axes[1])\n",
    "city_barplot.set(xlabel = \"City\", ylabel = \"Number of Participants\", title = \"City in which Participants finished High School\");\n",
    "\n",
    "sns.despine(left=True)"
   ]
  },
  {
   "cell_type": "markdown",
   "metadata": {},
   "source": [
    "A large proportion of our participants are in the 19-20 age-group, which means that they very recently graduation from high school. Setting it in context, this was also approximately the age-group that was involved in the *Bois Lockeroom Scandal*.\n",
    "\n",
    "An overwhelmingly large proportion of participants completed their schooling in Mumbai - a metropolitan city. Since I am from Mumbai, it is possible that the initial dissemination of the survey was largely to a Mumbai based population who them propagated it to their own Mumbai-based networks. I will discuss the limitations of this at the end of this project.  \n"
   ]
  },
  {
   "cell_type": "markdown",
   "metadata": {},
   "source": [
    "## Gender Identity of Participants"
   ]
  },
  {
   "cell_type": "markdown",
   "metadata": {},
   "source": [
    "Self-report measure of what gender participants identify as. "
   ]
  },
  {
   "cell_type": "code",
   "execution_count": 23,
   "metadata": {},
   "outputs": [
    {
     "data": {
      "image/png": "[encoded data removed]",
      "text/plain": [
       "<Figure size 648x648 with 1 Axes>"
      ]
     },
     "metadata": {},
     "output_type": "display_data"
    }
   ],
   "source": [
    "#extract gender data\n",
    "gender_df = pd.DataFrame(index = ['Female','Male','Gender Variant/Non-Conforming', 'Prefer not to say'])\n",
    "freq = list(survey[\"Gender Identity\"].value_counts())\n",
    "gender_df[\"percentage\"] = freq\n",
    "\n",
    "#plot gender pie chart\n",
    "gender_pie = gender_df.plot.pie(y = \"percentage\", figsize = (9,9), autopct ='%1.1f%%',\n",
    "                             colors = [\"lightblue\",\"lightsteelblue\", \"lightpink\", \"lightyellow\"], legend = False);\n",
    "plt.title(\"Gender Identity of Participants\");\n"
   ]
  },
  {
   "cell_type": "markdown",
   "metadata": {},
   "source": [
    "\n",
    "\n",
    "India is still fairly conservative when it comes to recognizing non-binary gender identities. This could account for the very low proportion of such individuals in the sample. \n",
    "\n",
    "More than half the sample of participants identified as female. This could be due to dissemination in gender-skewed networks (I sent them out to more females and they in turn sent it to more-oriented networks and so on), the tendency of particular genders to respond more actively to online surveys than others, or even the cultural need to conform to the binary (individuals who would categorize themselves as non-binary in private were hesitant to do so on a survey).\n"
   ]
  },
  {
   "cell_type": "markdown",
   "metadata": {},
   "source": [
    "## Spectrum of Religious Affiliations"
   ]
  },
  {
   "cell_type": "code",
   "execution_count": 24,
   "metadata": {},
   "outputs": [
    {
     "data": {
      "image/png": "[encoded data removed]",
      "text/plain": [
       "<Figure size 720x451.44 with 1 Axes>"
      ]
     },
     "metadata": {},
     "output_type": "display_data"
    }
   ],
   "source": [
    "# Pie chart \n",
    "\n",
    "religion = dict(survey[\"Religious Affiliation \"].value_counts())\n",
    "\n",
    "#Cleaning up repeat data in the survey \n",
    "religion[\"Undecided\"] = religion[\"Still in the process of understanding concept of religion and god\"] + religion[\"No clue \"]\n",
    "del religion[\"Still in the process of understanding concept of religion and god\"], religion[\"No clue \"]\n",
    "\n",
    "#define variables for the pie-chart\n",
    "sizes = list(religion.values())\n",
    "labels = [\"Agnostic\",\"Religious\",\"Spiritual\",\"Atheist\",\"Undecided\",\"Prefer not to Say\"]\n",
    "\n",
    "#colors\n",
    "colors = ['#ff9999','#66b3ff','#99ff99','#ffcc99','lightpink',\"gold\"]\n",
    " \n",
    "fig1, ax1 = plt.subplots()\n",
    "ax1.pie(sizes, colors = colors, labels=labels, autopct='%1.1f%%')\n",
    "\n",
    "#draw circle\n",
    "centre_circle = plt.Circle((0,0),0.70,fc='white')\n",
    "fig = plt.gcf()\n",
    "fig.gca().add_artist(centre_circle)\n",
    "\n",
    "# Equal aspect ratio ensures that pie is drawn as a circle\n",
    "ax1.axis('equal')\n",
    "plt.title(\"Religious Affiliations of Participants\")\n",
    "plt.tight_layout()\n",
    "plt.show()"
   ]
  },
  {
   "cell_type": "markdown",
   "metadata": {},
   "source": [
    "The youth sampled in this survey can be considered representative of the various religious modes of thought prevalent in India. However, I would be careful to assume that they were representative of religions themselves since I didn't ask for particular religious ties such as Hinduism or Islam etc."
   ]
  },
  {
   "cell_type": "markdown",
   "metadata": {},
   "source": [
    "# PERCEPTUAL AND CURRICULAR SURVEY DATA\n",
    "***\n",
    "\n",
    "Students were asked to answer various forced-choice or rating questions regarding a list of topics relevant directly or indirectly to sexual education. The topics were descriptive because it is near impossible to encapsulate the range of concepts like \"mental health\" or \"sexual health\" under one umbrella term. However, to increase ease of understanding and readability of code, the descriptive topics have been shortened. A table of reference is provided below.\n",
    "\n",
    "|Shortened Form |Description\n",
    "|:-:|:-:\n",
    "|svsh|Sexual/Domestic Violence and Identifying Workplace Harassment\n",
    "|mental_health|Comprehensive Mental Health Awareness, Assessments & Resources\n",
    "|bullying|Tackling Bullying & Identifying Toxic Environments\n",
    "|sex_ed|Comprehensive Sex Education beyond basic reproduction (safe sex, consent, pleasure, desire)\n",
    "|gender_identity|Gender Identity & Sexuality\n",
    "|menstruation|Normalization of Menstruation\n",
    "|cyber_crime|Comprehensive understanding of Cyber Etiquettes, Crimes, Laws\n"
   ]
  },
  {
   "cell_type": "markdown",
   "metadata": {},
   "source": [
    "## Which topics were rated the highest in importance by the participants?\n",
    "\n",
    "Participants were asked to rate the importance of including the topics listed above in their school curriculum, on a 0-5-point scale. I summed the individual scores obtained by each topic. The graph depicts the cumulative score out of 560."
   ]
  },
  {
   "cell_type": "code",
   "execution_count": 25,
   "metadata": {},
   "outputs": [],
   "source": [
    "#sum the columns\n",
    "ratings = pd.DataFrame()\n",
    "topics = [\"svsh\",\"mental_health\",\"bullying\",\"sex_ed\",\"gender_identity\",\"menstruation\",\"cyber_crime\"]\n",
    "freq = [survey[\"Imp SVSH\"].sum(),survey[\"Imp Mental Health\"].sum(),survey[\"Imp Bullying\"].sum(),survey[\"Imp Sex Ed\"].sum(),\n",
    "        survey[\"Imp Gender Identity \"].sum(),survey[\"Imp Menstruation\"].sum(),survey[\"Imp Cyber Crime\"].sum()]\n",
    "ratings[\"topics\"] = topics\n",
    "ratings[\"score\"] = freq\n",
    "ratings.sort_values(by = 'score', inplace = True, ascending = False)"
   ]
  },
  {
   "cell_type": "code",
   "execution_count": 26,
   "metadata": {},
   "outputs": [
    {
     "data": {
      "image/png": "[encoded data removed]",
      "text/plain": [
       "<Figure size 864x451.44 with 1 Axes>"
      ]
     },
     "metadata": {},
     "output_type": "display_data"
    }
   ],
   "source": [
    "#plot barplot\n",
    "sns.set(rc={'figure.figsize':(12,6.27)})\n",
    "imp_barplot = sns.barplot(x = \"topics\", y = \"score\", data = ratings, palette = 'rocket', orient = \"v\");\n",
    "imp_barplot.set(xlabel = \"Score out of 560\", ylabel = \"Topics\", \n",
    "                title =\"Cummulative Rated Importance of Topics in Curriculum\");\n",
    "for p in imp_barplot.patches:\n",
    "    imp_barplot.annotate(format(p.get_height()), (p.get_x() + p.get_width() / 2., p.get_height()), \n",
    "               ha = 'center', va = 'center', xytext = (0, 10), textcoords = 'offset points')"
   ]
  },
  {
   "cell_type": "markdown",
   "metadata": {},
   "source": [
    "\n",
    "I expected more variations than this graph depicts. Mental Health and Bullying are the two most important topics according to the participants. However, looking at how close in score the other topics are, it's not surprising because it is possible that a vast majority of teenage/adolescent mental health problems and incidents of bullying are manifestations of issues that arise from improper education and understanding of the topics that rank lower on the graph. Something that struck me as particularly interesting was that Cyber Crime ranked **last** on the list, even though the survey was conducted in the middle of an episode of national outrage regarding a _cyber space_ scandal.\n"
   ]
  },
  {
   "cell_type": "markdown",
   "metadata": {},
   "source": [
    "## According to the participants, how often were these topics address in their school?"
   ]
  },
  {
   "cell_type": "markdown",
   "metadata": {},
   "source": [
    "Participants had to rate on a modified Likert Scale, how often the same topics were addressed in their schools. Oftentimes, Indian officials tout the excuse of the \"public is not ready\" or the \"public doesn't want it\" as way of brushing shortcomings aside. This question along with the previous one was incorporated to understand whether there existed a discrepancy between the desire of youth to gain information on taboo topics and the frequency in which such information was disseminated in the educational institutions. \n",
    "\n",
    "**Scale**\n",
    "1. Never\n",
    "2. Rarely\n",
    "3. Occasionally\n",
    "4. Frequently\n",
    "5. Very Frequently"
   ]
  },
  {
   "cell_type": "code",
   "execution_count": 27,
   "metadata": {},
   "outputs": [
    {
     "data": {
      "image/png": "[encoded data removed]",
      "text/plain": [
       "<Figure size 864x451.44 with 2 Axes>"
      ]
     },
     "metadata": {},
     "output_type": "display_data"
    }
   ],
   "source": [
    "topics = [\"SVSH\", \"Mental Health\", \"Bullying\", \"Sex Ed\",\"Gender Identity\", \"Menstruation\", \"Cyber Crime\"]\n",
    "metric = [\"Never\",\"Rarely\",\"Occasionally\",\"Frequently\",\"Very Frequently\"]\n",
    "\n",
    "#initialise DataFrame\n",
    "matrix_df = pd.DataFrame(index = topics)\n",
    "\n",
    "never,rarely, occasionally, freq, vfreq = [],[],[],[],[]\n",
    "\n",
    "#column numbers we want to extract from survey\n",
    "columns = [20,21,22,23,24,25,28]\n",
    "\n",
    "#our data is not tidy. This loop is to create a frequency matrix of the form topicx x metrics\n",
    "for i in columns:\n",
    "    count = dict(survey[survey.columns[i]].value_counts())\n",
    "    for j in metric:\n",
    "        if j not in count.keys():\n",
    "            count[j] = 0     \n",
    "    never.append(count[\"Never\"])\n",
    "    rarely.append(count[\"Rarely\"])\n",
    "    occasionally.append(count[\"Occasionally\"])\n",
    "    freq.append(count[\"Frequently\"])\n",
    "    vfreq.append(count[\"Very Frequently\"])\n",
    "\n",
    "# add data to your DataFrame\n",
    "matrix_df[\"Never\"] = never \n",
    "matrix_df[\"Rarely\"] = rarely \n",
    "matrix_df[\"Occasionally\"] = occasionally\n",
    "matrix_df[\"Frequently\"] = freq\n",
    "matrix_df[\"Very Frequently\"] = vfreq\n",
    "matrix_df.sort_values(by = \"Very Frequently\", inplace = True, ascending = True)\n",
    "matrix_df\n",
    "\n",
    "sns.heatmap(matrix_df,cmap = 'RdPu', annot=False);\n",
    "plt.title(\"How frequently are the Topics addressed in School\");"
   ]
  },
  {
   "cell_type": "markdown",
   "metadata": {},
   "source": [
    "There's almost an even split in the heatmap with the right side dominated by light tones (corresponding to lower number of responses) while the left side is much darker (higher number of responses). Using the given scale to interpret the map, it is evident that very few participants felt that _any_ of these topics were addressed very frequently or frequently. \n",
    "\n",
    "|Topic |Most Responded...|Lowest Response...\n",
    "|:-:|:-:|:-:\n",
    "|SVSH|Never|Very Frequently\n",
    "|Gender Identity|Never|Very Frequently\n",
    "|Bullying|Occasionally|Very Frequently\n",
    "|Sex Ed|Never|Very Frequently\n",
    "|Mental Health|Rarely|Very Frequently\n",
    "|Menstruation|Never|Very Frequently\n",
    "|Cyber Crime|Never|Very Frequently\n",
    "\n",
    "The table above shows that the participants felt that a majority of the topics in this survey were **\"Never\"** addressed in their school environment. It is concerning on many levels to hear that basic health conversations such as Menstruation were also never addressed, even in an educational sense. \n",
    "\n",
    "76 participants felt that Gender Identity was Never addressed in their school - the highest vote in the heatmap. This makes sense given the Indian context. While the Indian landscape accepts the idea of sexual relations, albeit biologically, a large proportion of the country still has trouble with the idea of non-binary Gender identities. And since Education systems and curricula tend to run on a lag, not updating textbooks and details until decades after movement, educational resources about this topic are nearly non-existent in this conservative system.\n"
   ]
  },
  {
   "cell_type": "markdown",
   "metadata": {},
   "source": [
    "## Have the participants experience sexual policing by an authority figure in their schooling environment?"
   ]
  },
  {
   "cell_type": "markdown",
   "metadata": {},
   "source": [
    "Almost immediately after the 'Bois Locker room' scandal erupted on social media, a Tweet (now deleted) stating that some of the first experiences of casual sexism that people face, happen at the hands of teachers. It prompted viral retweets with people sharing their own experiences of being sexually policed (dress code, asked not to be \"distracting\" etc.) in a school environment. I was intrigued by the response and included this question to understand if this was a common experience.\n",
    "\n",
    "Since the female identifying participants dominate the dataset, a simple bar plot of responses would not allow for correct interpretation. The extremely high proportion of \"Yes\" versus the other responses could simply be a function of gender. To get a holistic picture, I plotted the responses in a gender specific manner in a grouped bar plot.\n",
    "\n",
    "Note: I only included the binary gender identities since the rest of the categories together comprised less than 3% of the total participant population.\n"
   ]
  },
  {
   "cell_type": "code",
   "execution_count": 28,
   "metadata": {},
   "outputs": [],
   "source": [
    "#sorting based on gender and sexual policing\n",
    "gen = survey.iloc[:,[2,29]]\n",
    "yes = gen.loc[gen[\"Sexual Policing \"] == \"Yes\"]\n",
    "yes_dict = dict(yes[\"Gender Identity\"].value_counts())\n",
    "\n",
    "maybe = gen.loc[gen[\"Sexual Policing \"] == \"Maybe\"]\n",
    "m_dict = dict(maybe[\"Gender Identity\"].value_counts())\n",
    "\n",
    "no = gen.loc[gen[\"Sexual Policing \"] == \"No\"]\n",
    "no_dict = dict(no[\"Gender Identity\"].value_counts())"
   ]
  },
  {
   "cell_type": "code",
   "execution_count": 29,
   "metadata": {},
   "outputs": [
    {
     "data": {
      "image/png": "[encoded data removed]",
      "text/plain": [
       "<Figure size 1296x451.44 with 2 Axes>"
      ]
     },
     "metadata": {},
     "output_type": "display_data"
    },
    {
     "data": {
      "text/plain": [
       "<Figure size 864x451.44 with 0 Axes>"
      ]
     },
     "metadata": {},
     "output_type": "display_data"
    }
   ],
   "source": [
    "f, axes = plt.subplots(1, 2, figsize =(18,6.27))\n",
    "# plot raw sexual policing data\n",
    "police_df = pd.DataFrame()\n",
    "policing = dict(survey[\"Sexual Policing \"].value_counts())\n",
    "police_df[\"Responses\"] = policing.keys()\n",
    "police_df[\"Frequency\"] = policing.values()\n",
    "police_bar = sns.barplot(x = \"Responses\",y = \"Frequency\", data = police_df, orient = \"v\", palette = 'spring', ax = axes[0]);\n",
    "police_bar.set(title = \"Particpants' experience with Sexual Policing by an Authority Figure\");\n",
    "\n",
    "# plot gender specific data\n",
    "# set width of bar\n",
    "barWidth = 0.25\n",
    " \n",
    "# set height of bar\n",
    "bars1 = [yes_dict['Female'],m_dict['Female'],no_dict['Female']] #female\n",
    "bars2 = [yes_dict['Male'],m_dict['Male'],no_dict['Male']] #male\n",
    "#bars3 = [29, 3, 24, 25, 17]\n",
    " \n",
    "# Set position of bar on X axis\n",
    "r1 = np.arange(len(bars1))\n",
    "r2 = [x + barWidth for x in r1]\n",
    "r3 = [x + barWidth for x in r2]\n",
    " \n",
    "# Make the plot\n",
    "plt.bar(r1, bars1, color ='salmon', width = barWidth,label='female');\n",
    "plt.bar(r2, bars2, color ='paleturquoise', width = barWidth,label='male');\n",
    "#plt.bar(r3, bars3, color='#2d7f5e', width=barWidth, edgecolor='white', label='var3');\n",
    " \n",
    "# Add xticks on the middle of the group bars\n",
    "plt.xlabel('Response', fontweight='bold');\n",
    "plt.xticks([r + barWidth for r in range(len(bars1))], ['Yes', 'Maybe', 'No']);\n",
    "plt.title(\"Sexual Policing experienced by Participants of particular Gender\");\n",
    "\n",
    "# Create legend & Show graphic\n",
    "plt.legend();\n",
    "plt.show();\n",
    "\n",
    "sns.despine(left=True);"
   ]
  },
  {
   "cell_type": "markdown",
   "metadata": {},
   "source": [
    "# TEXTUAL ANALYSIS ON FREE RESPONSE ANSWERS\n",
    "***\n",
    "The aim of this segment of data analysis is to portray whether the youth of India is satisfied of dissatisfied with the way the topics in this survey are addressed in the study. It's meant to encapsulate all of the above perceptual questions and act as a platform for participants to share their diverse experiences in the Indian Education System.\n"
   ]
  },
  {
   "cell_type": "markdown",
   "metadata": {},
   "source": [
    "## _Q: 'How do you think these topics were approached in your school environment?'_"
   ]
  },
  {
   "cell_type": "markdown",
   "metadata": {},
   "source": [
    "The free responses that I am analyzing in this section are answers to the question, above. I believe that topics extracted will indicate dissatisfaction and discontent. Although I did see a few positive responses in the survey, it is my opinion that the majority opinion will be one of discontent. \n",
    "\n",
    "The data, which was downloaded as a csv. file from Google forms, had to be manually cleaned up before I could begin the text preprocessing. There were a lot of unintended white spaces, typographic errors, abbreviations, incorrectly formatted digits that I had to correct prior to computationally cleaning up the data. It made me realize that keeping end goals and the methods with which you will be analyzing your data at the back of your mind, will always help design better suited data collection surveys, interviews etc. Had I done that; the cleaner data I would have obtained would have saved me a lot of time in the preprocessing steps.\n"
   ]
  },
  {
   "cell_type": "markdown",
   "metadata": {},
   "source": [
    "## Text Preprocessing"
   ]
  },
  {
   "cell_type": "code",
   "execution_count": 30,
   "metadata": {
    "scrolled": false
   },
   "outputs": [
    {
     "data": {
      "text/plain": [
       "['In India (Mumbai) it was introduced very briefly and done in a manner that boys and girls had separate trainings. This sort of defeated the point of normalizing sex related topics as we were not allowed to discuss it freely. In LA, these topics were more normalized (especially via mandatory trainings and online courses that had to be fulfilled prior to beginning freshman year courses).',\n",
       " 'Being in an all-boys school, I think they took this pretty casually as it was so commonplace.']"
      ]
     },
     "execution_count": 30,
     "metadata": {},
     "output_type": "execute_result"
    }
   ],
   "source": [
    "response = list(survey[\"Free Response\"])\n",
    "response[0:2]"
   ]
  },
  {
   "cell_type": "markdown",
   "metadata": {},
   "source": [
    "### Removing Punctuations"
   ]
  },
  {
   "cell_type": "code",
   "execution_count": 31,
   "metadata": {
    "scrolled": true
   },
   "outputs": [
    {
     "data": {
      "text/plain": [
       "['in india mumbai it was introduced very briefly and done in a manner that boys and girls had separate trainings this sort of defeated the point of normalizing sex related topics as we were not allowed to discuss it freely in la these topics were more normalized especially via mandatory trainings and online courses that had to be fulfilled prior to beginning freshman year courses',\n",
       " 'being in an allboys school i think they took this pretty casually as it was so commonplace']"
      ]
     },
     "execution_count": 31,
     "metadata": {},
     "output_type": "execute_result"
    }
   ],
   "source": [
    "#remove punctuations and save in new list\n",
    "from string import punctuation\n",
    "text_processed = []\n",
    "for r in response:\n",
    "    for char in punctuation:\n",
    "        r = r.lower().replace(char,\"\")\n",
    "    text_processed.append(r)\n",
    "text_processed[0:2]"
   ]
  },
  {
   "cell_type": "code",
   "execution_count": 32,
   "metadata": {},
   "outputs": [],
   "source": [
    "#add the processed text to our dataframe for use later\n",
    "survey[\"Text processed\"] = text_processed"
   ]
  },
  {
   "cell_type": "code",
   "execution_count": 33,
   "metadata": {},
   "outputs": [],
   "source": [
    "# Save the \"Text_processed\" list as one long string\n",
    "long_string = ','.join(text_processed)\n",
    "#long_string"
   ]
  },
  {
   "cell_type": "markdown",
   "metadata": {},
   "source": [
    "### Tokenization & Removing Stopwords"
   ]
  },
  {
   "cell_type": "code",
   "execution_count": 34,
   "metadata": {},
   "outputs": [],
   "source": [
    "#Tokenize long string\n",
    "es_tokens = long_string.split()\n",
    "\n",
    "#Remove stop words\n",
    "stop = stopwords.words(\"english\")\n",
    "no_stop = [word for word in es_tokens if word not in stop]\n",
    "\n",
    "#define a string without stop words\n",
    "unique_string=(\" \").join(no_stop)\n",
    "\n",
    "# a copy for later use\n",
    "copy = no_stop "
   ]
  },
  {
   "cell_type": "markdown",
   "metadata": {},
   "source": [
    "## Short Text Topic Modeling"
   ]
  },
  {
   "cell_type": "markdown",
   "metadata": {},
   "source": [
    "### Learning the Vocabulary"
   ]
  },
  {
   "cell_type": "code",
   "execution_count": 35,
   "metadata": {},
   "outputs": [
    {
     "data": {
      "text/plain": [
       "CountVectorizer(analyzer='word', binary=False, decode_error='strict',\n",
       "                dtype=<class 'numpy.int64'>, encoding='utf-8', input='content',\n",
       "                lowercase=True, max_df=1.0, max_features=None, min_df=1,\n",
       "                ngram_range=(1, 1), preprocessor=None, stop_words=None,\n",
       "                strip_accents=None, token_pattern='(?u)\\\\b\\\\w\\\\w+\\\\b',\n",
       "                tokenizer=None, vocabulary=None)"
      ]
     },
     "execution_count": 35,
     "metadata": {},
     "output_type": "execute_result"
    }
   ],
   "source": [
    "# Define an empty bag (of words)\n",
    "vectorizer = CountVectorizer()\n",
    "\n",
    "# Use the .fit method to tokenize the text and learn the vocabulary\n",
    "vectorizer.fit(survey[\"Text processed\"])\n",
    "\n",
    "# Print the vocabulary\n",
    "#vectorizer.vocabulary_"
   ]
  },
  {
   "cell_type": "markdown",
   "metadata": {},
   "source": [
    "### Encoding the Documents"
   ]
  },
  {
   "cell_type": "code",
   "execution_count": 36,
   "metadata": {},
   "outputs": [
    {
     "name": "stdout",
     "output_type": "stream",
     "text": [
      "  (0, 25)\t1\n",
      "  (0, 31)\t3\n",
      "  (0, 42)\t1\n",
      "  (0, 64)\t1\n",
      "  (0, 68)\t1\n",
      "  (0, 83)\t1\n",
      "  (0, 86)\t1\n",
      "  (0, 157)\t2\n",
      "  (0, 174)\t1\n",
      "  (0, 191)\t1\n",
      "  (0, 200)\t1\n",
      "  (0, 233)\t1\n",
      "  (0, 281)\t1\n",
      "  (0, 282)\t1\n",
      "  (0, 284)\t1\n",
      "  (0, 295)\t1\n",
      "  (0, 313)\t2\n",
      "  (0, 355)\t3\n",
      "  (0, 364)\t1\n",
      "  (0, 381)\t1\n",
      "  (0, 386)\t2\n",
      "  (0, 399)\t1\n",
      "  (0, 426)\t1\n",
      "  (0, 427)\t1\n",
      "  (0, 449)\t1\n",
      "  :\t:\n",
      "  (110, 480)\t1\n",
      "  (110, 485)\t1\n",
      "  (110, 490)\t1\n",
      "  (110, 509)\t1\n",
      "  (110, 587)\t1\n",
      "  (110, 614)\t1\n",
      "  (110, 672)\t1\n",
      "  (110, 713)\t1\n",
      "  (110, 733)\t2\n",
      "  (110, 757)\t1\n",
      "  (110, 792)\t2\n",
      "  (110, 799)\t1\n",
      "  (110, 817)\t1\n",
      "  (111, 2)\t1\n",
      "  (111, 265)\t1\n",
      "  (111, 283)\t1\n",
      "  (111, 311)\t1\n",
      "  (111, 313)\t1\n",
      "  (111, 405)\t1\n",
      "  (111, 650)\t1\n",
      "  (111, 725)\t2\n",
      "  (111, 727)\t1\n",
      "  (111, 733)\t1\n",
      "  (111, 785)\t1\n",
      "  (111, 798)\t1\n"
     ]
    }
   ],
   "source": [
    "vector = vectorizer.transform(survey[\"Text processed\"])\n",
    "print(vector) #\n",
    "#\n",
    "#\n",
    "#\n",
    "#\n",
    "#print(vector.shape)\n",
    "#print(type(vector))"
   ]
  },
  {
   "cell_type": "code",
   "execution_count": 37,
   "metadata": {},
   "outputs": [
    {
     "name": "stdout",
     "output_type": "stream",
     "text": [
      "[[0 0 0 ... 0 0 0]\n",
      " [0 0 0 ... 0 0 0]\n",
      " [0 0 0 ... 0 0 0]\n",
      " ...\n",
      " [0 0 0 ... 0 0 0]\n",
      " [0 0 0 ... 0 0 0]\n",
      " [0 0 1 ... 0 0 0]]\n"
     ]
    }
   ],
   "source": [
    "# View as a multidimensional array before converting to data frame\n",
    "# Rows are the documents\n",
    "# Columns are the terms\n",
    "\n",
    "print(vector.toarray())"
   ]
  },
  {
   "cell_type": "code",
   "execution_count": 38,
   "metadata": {},
   "outputs": [
    {
     "data": {
      "text/plain": [
       "['ability',\n",
       " 'able',\n",
       " 'about',\n",
       " 'above',\n",
       " 'academics',\n",
       " 'accepted',\n",
       " 'accolades',\n",
       " 'acknowledging',\n",
       " 'action',\n",
       " 'actions',\n",
       " 'actually',\n",
       " 'additional',\n",
       " 'additionally',\n",
       " 'addressed',\n",
       " 'addressing',\n",
       " 'adults',\n",
       " 'affects',\n",
       " 'affiliated',\n",
       " 'aforementioned',\n",
       " 'after',\n",
       " 'again',\n",
       " 'against',\n",
       " 'age',\n",
       " 'all',\n",
       " 'allboys',\n",
       " 'allowed',\n",
       " 'alma',\n",
       " 'also',\n",
       " 'always',\n",
       " 'am',\n",
       " 'an',\n",
       " 'and',\n",
       " 'any',\n",
       " 'anyone',\n",
       " 'appointed',\n",
       " 'appreciation',\n",
       " 'approached',\n",
       " 'appropriately',\n",
       " 'are',\n",
       " 'aren',\n",
       " 'arent',\n",
       " 'around',\n",
       " 'as',\n",
       " 'asked',\n",
       " 'aspects',\n",
       " 'assemblies',\n",
       " 'assembly',\n",
       " 'assume',\n",
       " 'at',\n",
       " 'attacked',\n",
       " 'attention',\n",
       " 'authorities',\n",
       " 'authority',\n",
       " 'avoid',\n",
       " 'avoided',\n",
       " 'aware',\n",
       " 'awareness',\n",
       " 'away',\n",
       " 'awfully',\n",
       " 'awkward',\n",
       " 'bad',\n",
       " 'badly',\n",
       " 'barely',\n",
       " 'basic',\n",
       " 'be',\n",
       " 'because',\n",
       " 'been',\n",
       " 'before',\n",
       " 'beginning',\n",
       " 'behavior',\n",
       " 'being',\n",
       " 'believe',\n",
       " 'believed',\n",
       " 'best',\n",
       " 'better',\n",
       " 'between',\n",
       " 'big',\n",
       " 'biology',\n",
       " 'blind',\n",
       " 'board',\n",
       " 'books',\n",
       " 'both',\n",
       " 'boy',\n",
       " 'boys',\n",
       " 'bras',\n",
       " 'brief',\n",
       " 'briefly',\n",
       " 'brilliant',\n",
       " 'broached',\n",
       " 'broadly',\n",
       " 'brushed',\n",
       " 'bullying',\n",
       " 'but',\n",
       " 'buzz',\n",
       " 'by',\n",
       " 'call',\n",
       " 'called',\n",
       " 'came',\n",
       " 'can',\n",
       " 'captain',\n",
       " 'care',\n",
       " 'carmel',\n",
       " 'carpet',\n",
       " 'cases',\n",
       " 'casually',\n",
       " 'certain',\n",
       " 'change',\n",
       " 'changed',\n",
       " 'changing',\n",
       " 'children',\n",
       " 'chose',\n",
       " 'class',\n",
       " 'classes',\n",
       " 'classmates',\n",
       " 'classroom',\n",
       " 'closest',\n",
       " 'clothes',\n",
       " 'coach',\n",
       " 'coed',\n",
       " 'coincidentally',\n",
       " 'college',\n",
       " 'colored',\n",
       " 'come',\n",
       " 'comfortable',\n",
       " 'commendable',\n",
       " 'comments',\n",
       " 'common',\n",
       " 'commonplace',\n",
       " 'compared',\n",
       " 'compulsory',\n",
       " 'concerned',\n",
       " 'conduct',\n",
       " 'conducted',\n",
       " 'conform',\n",
       " 'conforming',\n",
       " 'confronting',\n",
       " 'conscious',\n",
       " 'consciously',\n",
       " 'consensual',\n",
       " 'consequences',\n",
       " 'conservative',\n",
       " 'conservatively',\n",
       " 'consider',\n",
       " 'considered',\n",
       " 'considering',\n",
       " 'controversial',\n",
       " 'conversations',\n",
       " 'convey',\n",
       " 'correction',\n",
       " 'could',\n",
       " 'couldve',\n",
       " 'council',\n",
       " 'councilor',\n",
       " 'counsellor',\n",
       " 'counselor',\n",
       " 'countries',\n",
       " 'course',\n",
       " 'courses',\n",
       " 'cover',\n",
       " 'covered',\n",
       " 'create',\n",
       " 'creates',\n",
       " 'crime',\n",
       " 'crises',\n",
       " 'crop',\n",
       " 'culture',\n",
       " 'curriculum',\n",
       " 'cuz',\n",
       " 'cyber',\n",
       " 'cynical',\n",
       " 'date',\n",
       " 'debate',\n",
       " 'deemed',\n",
       " 'deep',\n",
       " 'defeated',\n",
       " 'definitely',\n",
       " 'degree',\n",
       " 'deliberately',\n",
       " 'destigmatization',\n",
       " 'detached',\n",
       " 'detail',\n",
       " 'details',\n",
       " 'dictating',\n",
       " 'did',\n",
       " 'didn',\n",
       " 'didnt',\n",
       " 'different',\n",
       " 'differing',\n",
       " 'disappointing',\n",
       " 'disciplinary',\n",
       " 'discrimination',\n",
       " 'discuss',\n",
       " 'discussed',\n",
       " 'discussion',\n",
       " 'discussions',\n",
       " 'dissuade',\n",
       " 'do',\n",
       " 'doctor',\n",
       " 'does',\n",
       " 'don',\n",
       " 'done',\n",
       " 'dont',\n",
       " 'down',\n",
       " 'draw',\n",
       " 'dress',\n",
       " 'dresscode',\n",
       " 'drummed',\n",
       " 'dumbed',\n",
       " 'during',\n",
       " 'early',\n",
       " 'education',\n",
       " 'educational',\n",
       " 'effective',\n",
       " 'effort',\n",
       " 'efforts',\n",
       " 'eg',\n",
       " 'eight',\n",
       " 'eighth',\n",
       " 'either',\n",
       " 'elder',\n",
       " 'eleven',\n",
       " 'eleventh',\n",
       " 'else',\n",
       " 'embrace',\n",
       " 'emphasis',\n",
       " 'emphasized',\n",
       " 'empowerment',\n",
       " 'encouraged',\n",
       " 'enough',\n",
       " 'envelope',\n",
       " 'environment',\n",
       " 'equal',\n",
       " 'equality',\n",
       " 'especially',\n",
       " 'etc',\n",
       " 'even',\n",
       " 'ever',\n",
       " 'every',\n",
       " 'everyone',\n",
       " 'everything',\n",
       " 'everywhere',\n",
       " 'example',\n",
       " 'expected',\n",
       " 'experienced',\n",
       " 'experts',\n",
       " 'explained',\n",
       " 'explored',\n",
       " 'exposed',\n",
       " 'expressing',\n",
       " 'extent',\n",
       " 'extremely',\n",
       " 'eye',\n",
       " 'face',\n",
       " 'faced',\n",
       " 'facing',\n",
       " 'fact',\n",
       " 'faculty',\n",
       " 'failed',\n",
       " 'falters',\n",
       " 'far',\n",
       " 'fear',\n",
       " 'feel',\n",
       " 'felt',\n",
       " 'female',\n",
       " 'females',\n",
       " 'few',\n",
       " 'field',\n",
       " 'fields',\n",
       " 'financial',\n",
       " 'firmly',\n",
       " 'five',\n",
       " 'focuses',\n",
       " 'follow',\n",
       " 'followed',\n",
       " 'football',\n",
       " 'for',\n",
       " 'form',\n",
       " 'formality',\n",
       " 'formative',\n",
       " 'frankly',\n",
       " 'freedom',\n",
       " 'freely',\n",
       " 'freshman',\n",
       " 'from',\n",
       " 'fulfilled',\n",
       " 'fully',\n",
       " 'fundamental',\n",
       " 'furthermore',\n",
       " 'games',\n",
       " 'gay',\n",
       " 'gender',\n",
       " 'generally',\n",
       " 'generic',\n",
       " 'giggle',\n",
       " 'girl',\n",
       " 'girls',\n",
       " 'give',\n",
       " 'given',\n",
       " 'go',\n",
       " 'going',\n",
       " 'good',\n",
       " 'gossip',\n",
       " 'got',\n",
       " 'gotten',\n",
       " 'grade',\n",
       " 'grades',\n",
       " 'grounds',\n",
       " 'group',\n",
       " 'growing',\n",
       " 'grown',\n",
       " 'guess',\n",
       " 'guests',\n",
       " 'guys',\n",
       " 'had',\n",
       " 'hairstyles',\n",
       " 'handle',\n",
       " 'happen',\n",
       " 'happened',\n",
       " 'harassment',\n",
       " 'hard',\n",
       " 'has',\n",
       " 'have',\n",
       " 'having',\n",
       " 'he',\n",
       " 'health',\n",
       " 'healthy',\n",
       " 'held',\n",
       " 'help',\n",
       " 'helpful',\n",
       " 'helpless',\n",
       " 'hence',\n",
       " 'hesitate',\n",
       " 'highlighted',\n",
       " 'hint',\n",
       " 'hips',\n",
       " 'history',\n",
       " 'hitting',\n",
       " 'holding',\n",
       " 'home',\n",
       " 'homosexuality',\n",
       " 'hour',\n",
       " 'how',\n",
       " 'however',\n",
       " 'hv',\n",
       " 'hygiene',\n",
       " 'ideas',\n",
       " 'identity',\n",
       " 'if',\n",
       " 'ignored',\n",
       " 'im',\n",
       " 'imp',\n",
       " 'impact',\n",
       " 'importance',\n",
       " 'important',\n",
       " 'impressionable',\n",
       " 'in',\n",
       " 'inability',\n",
       " 'inappropriate',\n",
       " 'incident',\n",
       " 'including',\n",
       " 'inclusion',\n",
       " 'incorporate',\n",
       " 'incorrect',\n",
       " 'indeed',\n",
       " 'india',\n",
       " 'indian',\n",
       " 'industry',\n",
       " 'ineffectively',\n",
       " 'inefficiency',\n",
       " 'information',\n",
       " 'informed',\n",
       " 'insistence',\n",
       " 'insisting',\n",
       " 'institution',\n",
       " 'insufficiently',\n",
       " 'integrate',\n",
       " 'interest',\n",
       " 'interested',\n",
       " 'international',\n",
       " 'intimacy',\n",
       " 'into',\n",
       " 'introduced',\n",
       " 'irrespective',\n",
       " 'is',\n",
       " 'isn',\n",
       " 'issues',\n",
       " 'it',\n",
       " 'its',\n",
       " 'joke',\n",
       " 'jokes',\n",
       " 'judgmental',\n",
       " 'just',\n",
       " 'justify',\n",
       " 'keen',\n",
       " 'keyword',\n",
       " 'kids',\n",
       " 'knee',\n",
       " 'knew',\n",
       " 'know',\n",
       " 'la',\n",
       " 'late',\n",
       " 'later',\n",
       " 'learn',\n",
       " 'learnt',\n",
       " 'least',\n",
       " 'lectures',\n",
       " 'length',\n",
       " 'let',\n",
       " 'level',\n",
       " 'levels',\n",
       " 'liberal',\n",
       " 'liberally',\n",
       " 'life',\n",
       " 'like',\n",
       " 'line',\n",
       " 'listed',\n",
       " 'literally',\n",
       " 'little',\n",
       " 'longed',\n",
       " 'looked',\n",
       " 'looking',\n",
       " 'lot',\n",
       " 'made',\n",
       " 'make',\n",
       " 'making',\n",
       " 'male',\n",
       " 'mandatory',\n",
       " 'manner',\n",
       " 'many',\n",
       " 'mater',\n",
       " 'mature',\n",
       " 'may',\n",
       " 'maybe',\n",
       " 'me',\n",
       " 'members',\n",
       " 'menstrual',\n",
       " 'menstruation',\n",
       " 'mental',\n",
       " 'mentality',\n",
       " 'mention',\n",
       " 'mentioned',\n",
       " 'mentioning',\n",
       " 'mentored',\n",
       " 'merely',\n",
       " 'middle',\n",
       " 'minimal',\n",
       " 'minimize',\n",
       " 'minute',\n",
       " 'moral',\n",
       " 'more',\n",
       " 'moreover',\n",
       " 'most',\n",
       " 'mostly',\n",
       " 'mount',\n",
       " 'moving',\n",
       " 'much',\n",
       " 'mumbai',\n",
       " 'must',\n",
       " 'my',\n",
       " 'myself',\n",
       " 'naively',\n",
       " 'national',\n",
       " 'natural',\n",
       " 'necessary',\n",
       " 'need',\n",
       " 'needed',\n",
       " 'neglected',\n",
       " 'neither',\n",
       " 'never',\n",
       " 'ngo',\n",
       " 'ninth',\n",
       " 'no',\n",
       " 'nonacademic',\n",
       " 'none',\n",
       " 'nor',\n",
       " 'normal',\n",
       " 'normalize',\n",
       " 'normalized',\n",
       " 'normalizing',\n",
       " 'norms',\n",
       " 'not',\n",
       " 'now',\n",
       " 'obey',\n",
       " 'occasionally',\n",
       " 'occasions',\n",
       " 'of',\n",
       " 'offensive',\n",
       " 'often',\n",
       " 'ok',\n",
       " 'old',\n",
       " 'on',\n",
       " 'once',\n",
       " 'one',\n",
       " 'ones',\n",
       " 'online',\n",
       " 'only',\n",
       " 'open',\n",
       " 'opinion',\n",
       " 'opportunity',\n",
       " 'opposed',\n",
       " 'optional',\n",
       " 'or',\n",
       " 'order',\n",
       " 'organize',\n",
       " 'orgasms',\n",
       " 'orthodox',\n",
       " 'other',\n",
       " 'others',\n",
       " 'otherwise',\n",
       " 'our',\n",
       " 'out',\n",
       " 'over',\n",
       " 'overlooked',\n",
       " 'part',\n",
       " 'particular',\n",
       " 'pedestal',\n",
       " 'penalized',\n",
       " 'people',\n",
       " 'period',\n",
       " 'periods',\n",
       " 'person',\n",
       " 'personal',\n",
       " 'personally',\n",
       " 'perspective',\n",
       " 'picked',\n",
       " 'place',\n",
       " 'places',\n",
       " 'planning',\n",
       " 'play',\n",
       " 'played',\n",
       " 'point',\n",
       " 'points',\n",
       " 'policing',\n",
       " 'portion',\n",
       " 'positions',\n",
       " 'power',\n",
       " 'ppt',\n",
       " 'pretty',\n",
       " 'prevent',\n",
       " 'preventive',\n",
       " 'prior',\n",
       " 'problems',\n",
       " 'programs',\n",
       " 'promoting',\n",
       " 'property',\n",
       " 'psych',\n",
       " 'pu',\n",
       " 'punishment',\n",
       " 'put',\n",
       " 'qualifications',\n",
       " 'questioned',\n",
       " 'quite',\n",
       " 'randomized',\n",
       " 'rarely',\n",
       " 'rather',\n",
       " 're',\n",
       " 'reached',\n",
       " 'real',\n",
       " 'realize',\n",
       " 'really',\n",
       " 'receptive',\n",
       " 'redness',\n",
       " 'reflected',\n",
       " 'regulations',\n",
       " 'reinforced',\n",
       " 'related',\n",
       " 'religious',\n",
       " 'remember',\n",
       " 'repercussions',\n",
       " 'respected',\n",
       " 'response',\n",
       " 'responsible',\n",
       " 'rest',\n",
       " 'restrictions',\n",
       " 'resulting',\n",
       " 'right',\n",
       " 'rights',\n",
       " 'roles',\n",
       " 'room',\n",
       " 'rooms',\n",
       " 'rule',\n",
       " 'rules',\n",
       " 'safe',\n",
       " 'said',\n",
       " 'same',\n",
       " 'saw',\n",
       " 'say',\n",
       " 'school',\n",
       " 'schools',\n",
       " 'science',\n",
       " 'scientifically',\n",
       " 'scratched',\n",
       " 'second',\n",
       " 'seemed',\n",
       " 'seen',\n",
       " 'self',\n",
       " 'seminar',\n",
       " 'seminars',\n",
       " 'senior',\n",
       " 'sensitive',\n",
       " 'sent',\n",
       " 'separate',\n",
       " 'separately',\n",
       " 'separating',\n",
       " 'seriously',\n",
       " 'session',\n",
       " 'sessions',\n",
       " 'settings',\n",
       " 'seven',\n",
       " 'severe',\n",
       " 'sex',\n",
       " 'sexed',\n",
       " 'sexes',\n",
       " 'sexism',\n",
       " 'sexual',\n",
       " 'sexuality',\n",
       " 'shaming',\n",
       " 'shirtless',\n",
       " 'short',\n",
       " 'shorter',\n",
       " 'should',\n",
       " 'shouldnt',\n",
       " 'showed',\n",
       " 'showing',\n",
       " 'shy',\n",
       " 'simply',\n",
       " 'situation',\n",
       " 'sixth',\n",
       " 'skillfully',\n",
       " 'skills',\n",
       " 'skirt',\n",
       " 'skirts',\n",
       " 'skirtsshorts',\n",
       " 'sleevelessshort',\n",
       " 'slight',\n",
       " 'small',\n",
       " 'smaller',\n",
       " 'so',\n",
       " 'social',\n",
       " 'sociopolitical',\n",
       " 'solution',\n",
       " 'some',\n",
       " 'somehow',\n",
       " 'something',\n",
       " 'sometimes',\n",
       " 'somewhat',\n",
       " 'sort',\n",
       " 'speak',\n",
       " 'speakers',\n",
       " 'speaking',\n",
       " 'spoke',\n",
       " 'spoken',\n",
       " 'sports',\n",
       " 'staff',\n",
       " 'staircases',\n",
       " 'stance',\n",
       " 'status',\n",
       " 'stds',\n",
       " 'stick',\n",
       " 'stigma',\n",
       " 'stigmatized',\n",
       " 'still',\n",
       " 'stopped',\n",
       " 'straight',\n",
       " 'student',\n",
       " 'students',\n",
       " 'studied',\n",
       " 'study',\n",
       " 'stuff',\n",
       " 'subconsciously',\n",
       " 'subject',\n",
       " 'subjects',\n",
       " 'such',\n",
       " 'suddenly',\n",
       " 'sufficient',\n",
       " 'superficially',\n",
       " 'supported',\n",
       " 'sure',\n",
       " 'surface',\n",
       " 'suspensionexpulsion',\n",
       " 'syllabus',\n",
       " 'system',\n",
       " 'taboo',\n",
       " 'tackle',\n",
       " 'tackled',\n",
       " 'taking',\n",
       " 'talk',\n",
       " 'talked',\n",
       " 'talking',\n",
       " 'talks',\n",
       " 'taught',\n",
       " 'teach',\n",
       " 'teacher',\n",
       " 'teachers',\n",
       " 'teaches',\n",
       " 'teaching',\n",
       " 'team',\n",
       " 'tech',\n",
       " 'teenagers',\n",
       " 'teens',\n",
       " 'ten',\n",
       " 'tend',\n",
       " 'terminology',\n",
       " 'terms',\n",
       " 'textbook',\n",
       " 'than',\n",
       " 'that',\n",
       " 'thats',\n",
       " 'the',\n",
       " 'their',\n",
       " 'them',\n",
       " 'themselves',\n",
       " 'then',\n",
       " 'there',\n",
       " 'these',\n",
       " 'they',\n",
       " 'theyre',\n",
       " 'things',\n",
       " 'think',\n",
       " 'this',\n",
       " 'those',\n",
       " 'though',\n",
       " 'thought',\n",
       " 'through',\n",
       " 'till',\n",
       " 'time',\n",
       " 'times',\n",
       " 'to',\n",
       " 'tokenistically',\n",
       " 'told',\n",
       " 'too',\n",
       " 'took',\n",
       " 'topic',\n",
       " 'topics',\n",
       " 'tops',\n",
       " 'touch',\n",
       " 'touched',\n",
       " 'tough',\n",
       " 'towards',\n",
       " 'training',\n",
       " 'trainings',\n",
       " 'transition',\n",
       " 'tried',\n",
       " 'trust',\n",
       " 'try',\n",
       " 'tshirt',\n",
       " 'turned',\n",
       " 'twelve',\n",
       " 'twenty',\n",
       " 'two',\n",
       " 'unaware',\n",
       " 'uncomfortable',\n",
       " 'under',\n",
       " 'understand',\n",
       " 'understanding',\n",
       " 'understood',\n",
       " 'uneducated',\n",
       " 'unfortunate',\n",
       " 'uniform',\n",
       " 'unique',\n",
       " 'unnecessary',\n",
       " 'unwanted',\n",
       " 'up',\n",
       " 'upheld',\n",
       " 'upon',\n",
       " 'us',\n",
       " 'used',\n",
       " 'usually',\n",
       " 'utmost',\n",
       " 'vague',\n",
       " 'value',\n",
       " 'very',\n",
       " 'via',\n",
       " 'video',\n",
       " 'vocational',\n",
       " 'voicing',\n",
       " 'volunteers',\n",
       " 'walk',\n",
       " 'wanted',\n",
       " 'wary',\n",
       " 'was',\n",
       " 'wasn',\n",
       " 'waste',\n",
       " 'way',\n",
       " 'ways',\n",
       " 'we',\n",
       " 'wear',\n",
       " 'wearing',\n",
       " 'webinars',\n",
       " 'week',\n",
       " 'well',\n",
       " 'went',\n",
       " 'were',\n",
       " 'weren',\n",
       " 'werent',\n",
       " 'what',\n",
       " 'whats',\n",
       " 'when',\n",
       " 'where',\n",
       " 'which',\n",
       " 'while',\n",
       " 'who',\n",
       " 'why',\n",
       " 'willing',\n",
       " 'wish',\n",
       " 'with',\n",
       " 'without',\n",
       " 'women',\n",
       " 'won',\n",
       " 'words',\n",
       " 'wore',\n",
       " 'workplace',\n",
       " 'workshops',\n",
       " 'worst',\n",
       " 'would',\n",
       " 'wrong',\n",
       " 'year',\n",
       " 'yearly',\n",
       " 'years',\n",
       " 'yet',\n",
       " 'you',\n",
       " 'young',\n",
       " 'your']"
      ]
     },
     "execution_count": 38,
     "metadata": {},
     "output_type": "execute_result"
    }
   ],
   "source": [
    "# What are the terms?\n",
    "\n",
    "vectorizer.get_feature_names()"
   ]
  },
  {
   "cell_type": "markdown",
   "metadata": {},
   "source": [
    "### Extract Bigrams\n",
    "\n",
    "Bigrams are two adjacent elements from a string of tokens. Bigrams help place words and phrases into context. For instance, in a United Nations document, a model may classify 'human' and 'rights' as two different tokens and hence provide us with word frequencies for both, separately. However, given the context, word frequency of the *bigram* 'human rights' would be more insightful. This is why extracting bigrams is helpful. \n",
    "\n",
    "In my project, there weren't any distinct bigrams as far as I could tell. This could be due to the short nature of the responses and the small size of the data set, overall. It was definitley still worth running the data through a bigram analyser.\n",
    "\n"
   ]
  },
  {
   "cell_type": "code",
   "execution_count": 22,
   "metadata": {},
   "outputs": [
    {
     "data": {
      "text/plain": [
       "CountVectorizer(analyzer='word', binary=False, decode_error='strict',\n",
       "                dtype=<class 'numpy.int64'>, encoding='utf-8', input='content',\n",
       "                lowercase=True, max_df=1.0, max_features=None, min_df=1,\n",
       "                ngram_range=(1, 2), preprocessor=None, stop_words='english',\n",
       "                strip_accents=None, token_pattern='\\\\b\\\\w+\\\\b', tokenizer=None,\n",
       "                vocabulary=None)"
      ]
     },
     "execution_count": 22,
     "metadata": {},
     "output_type": "execute_result"
    }
   ],
   "source": [
    "# What other processing steps could you include here\n",
    "# ... instead of doing them manually above? \n",
    "bigram_vectorizer = CountVectorizer(ngram_range = (1,2),\n",
    "                                    stop_words = \"english\",\n",
    "                                    token_pattern = r'\\b\\w+\\b', \n",
    "                                    min_df = 1)\n",
    "bigram_vectorizer"
   ]
  },
  {
   "cell_type": "code",
   "execution_count": 23,
   "metadata": {},
   "outputs": [],
   "source": [
    "# Analyze long_string in the bigram bag of words\n",
    "analyze = bigram_vectorizer.build_analyzer()\n",
    "\n",
    "vocab = analyze(unique_string)"
   ]
  },
  {
   "cell_type": "markdown",
   "metadata": {},
   "source": [
    "### Metrics of Word Frequency"
   ]
  },
  {
   "cell_type": "markdown",
   "metadata": {},
   "source": [
    "Word frequency analysis can be a double-edged sword. On one hand, word frequencies offer a lot of \"big-picture\" insight into our data set. Borrowing from the UN example that I used before, looking at the (potentially high) frequency of the bigram 'human rights' and interpreting whether other frequent words in the corpus together form a political, social or internationally characterized lexicon would lead us to infer that the corpus consists of documents from UN or a similar organization. However, only looking at 'human' or 'rights' word frequencies might not lead us to the same conclusion. Thus, in computational approaches to social science, a humanistic understanding of the source and context of your data set is always helpful.\n",
    "\n",
    "Word Frequency analysis on my dataset could prove helpful because of its small size. I know that this dataset contains participants' responses to questions regarding topics covered in our education system. From the age demographics, I know that they are primarily in the range of 19-20. This in conjunction with other information helps put certain word frequency results in context and hence, understand them better. I will provide specific examples of where context-driven interpretations are helpful, alongside the visualizations of word-frequency metrics.\n"
   ]
  },
  {
   "cell_type": "code",
   "execution_count": 24,
   "metadata": {},
   "outputs": [
    {
     "data": {
      "text/html": [
       "<div>\n",
       "<style scoped>\n",
       "    .dataframe tbody tr th:only-of-type {\n",
       "        vertical-align: middle;\n",
       "    }\n",
       "\n",
       "    .dataframe tbody tr th {\n",
       "        vertical-align: top;\n",
       "    }\n",
       "\n",
       "    .dataframe thead th {\n",
       "        text-align: right;\n",
       "    }\n",
       "</style>\n",
       "<table border=\"1\" class=\"dataframe\">\n",
       "  <thead>\n",
       "    <tr style=\"text-align: right;\">\n",
       "      <th></th>\n",
       "      <th>Word</th>\n",
       "      <th>Frequency</th>\n",
       "    </tr>\n",
       "  </thead>\n",
       "  <tbody>\n",
       "    <tr>\n",
       "      <th>0</th>\n",
       "      <td>topics</td>\n",
       "      <td>38</td>\n",
       "    </tr>\n",
       "    <tr>\n",
       "      <th>1</th>\n",
       "      <td>school</td>\n",
       "      <td>35</td>\n",
       "    </tr>\n",
       "    <tr>\n",
       "      <th>2</th>\n",
       "      <td>girls</td>\n",
       "      <td>19</td>\n",
       "    </tr>\n",
       "    <tr>\n",
       "      <th>3</th>\n",
       "      <td>students</td>\n",
       "      <td>17</td>\n",
       "    </tr>\n",
       "    <tr>\n",
       "      <th>4</th>\n",
       "      <td>think</td>\n",
       "      <td>13</td>\n",
       "    </tr>\n",
       "    <tr>\n",
       "      <th>5</th>\n",
       "      <td>discussed</td>\n",
       "      <td>12</td>\n",
       "    </tr>\n",
       "    <tr>\n",
       "      <th>6</th>\n",
       "      <td>teachers</td>\n",
       "      <td>12</td>\n",
       "    </tr>\n",
       "    <tr>\n",
       "      <th>7</th>\n",
       "      <td>covered</td>\n",
       "      <td>11</td>\n",
       "    </tr>\n",
       "    <tr>\n",
       "      <th>8</th>\n",
       "      <td>t</td>\n",
       "      <td>11</td>\n",
       "    </tr>\n",
       "    <tr>\n",
       "      <th>9</th>\n",
       "      <td>schools</td>\n",
       "      <td>10</td>\n",
       "    </tr>\n",
       "    <tr>\n",
       "      <th>10</th>\n",
       "      <td>boys</td>\n",
       "      <td>9</td>\n",
       "    </tr>\n",
       "    <tr>\n",
       "      <th>11</th>\n",
       "      <td>sex</td>\n",
       "      <td>9</td>\n",
       "    </tr>\n",
       "    <tr>\n",
       "      <th>12</th>\n",
       "      <td>topic</td>\n",
       "      <td>9</td>\n",
       "    </tr>\n",
       "    <tr>\n",
       "      <th>13</th>\n",
       "      <td>rarely</td>\n",
       "      <td>9</td>\n",
       "    </tr>\n",
       "    <tr>\n",
       "      <th>14</th>\n",
       "      <td>approached</td>\n",
       "      <td>8</td>\n",
       "    </tr>\n",
       "    <tr>\n",
       "      <th>15</th>\n",
       "      <td>grade</td>\n",
       "      <td>8</td>\n",
       "    </tr>\n",
       "    <tr>\n",
       "      <th>16</th>\n",
       "      <td>really</td>\n",
       "      <td>8</td>\n",
       "    </tr>\n",
       "    <tr>\n",
       "      <th>17</th>\n",
       "      <td>issues</td>\n",
       "      <td>8</td>\n",
       "    </tr>\n",
       "    <tr>\n",
       "      <th>18</th>\n",
       "      <td>like</td>\n",
       "      <td>8</td>\n",
       "    </tr>\n",
       "    <tr>\n",
       "      <th>19</th>\n",
       "      <td>dont</td>\n",
       "      <td>8</td>\n",
       "    </tr>\n",
       "  </tbody>\n",
       "</table>\n",
       "</div>"
      ],
      "text/plain": [
       "          Word  Frequency\n",
       "0       topics         38\n",
       "1       school         35\n",
       "2        girls         19\n",
       "3     students         17\n",
       "4        think         13\n",
       "5    discussed         12\n",
       "6     teachers         12\n",
       "7      covered         11\n",
       "8            t         11\n",
       "9      schools         10\n",
       "10        boys          9\n",
       "11         sex          9\n",
       "12       topic          9\n",
       "13      rarely          9\n",
       "14  approached          8\n",
       "15       grade          8\n",
       "16      really          8\n",
       "17      issues          8\n",
       "18        like          8\n",
       "19        dont          8"
      ]
     },
     "execution_count": 24,
     "metadata": {},
     "output_type": "execute_result"
    }
   ],
   "source": [
    "# Show the 20 most commons\n",
    "freq = Counter(vocab)\n",
    "stop_df = pd.DataFrame(freq.most_common(20), columns = [\"Word\", \"Frequency\"])\n",
    "stop_df #the difference is that now the bigrams are aligned"
   ]
  },
  {
   "cell_type": "markdown",
   "metadata": {},
   "source": [
    "#### WORDCLOUD"
   ]
  },
  {
   "cell_type": "code",
   "execution_count": 25,
   "metadata": {},
   "outputs": [
    {
     "data": {
      "image/png": "[encoded data removed]",
      "text/plain": [
       "<PIL.Image.Image image mode=RGB size=600x300 at 0x7FE7517DE850>"
      ]
     },
     "execution_count": 25,
     "metadata": {},
     "output_type": "execute_result"
    }
   ],
   "source": [
    "# Define a word cloud variable\n",
    "cloud = WordCloud(background_color = \"white\", \n",
    "                  max_words = 20, \n",
    "                  contour_width = 5, \n",
    "                  width = 600, height = 300, \n",
    "                  random_state = 6, colormap= 'inferno')\n",
    "\n",
    "# Process the word cloud\n",
    "cloud.generate(unique_string)\n",
    "\n",
    "# Visualize!\n",
    "#cloud.to_file('WordCloud.png')\n",
    "cloud.to_image()"
   ]
  },
  {
   "cell_type": "markdown",
   "metadata": {},
   "source": [
    "One of the primary advantages of a Word Cloud as a visualization is that the frequent words _jump_ out at you almost immediately. It's easy to note some words that take up the most space = 'topic', 'school', 'never', 'girl', 'student', 'discussed' etc. Taken in isolation, they indicate a culture of schools never (or rarely) discussing, 'approaching' or 'covering' such topics as those asked in the question.\n",
    "\n",
    "An example of the context driven interpretation that I mentioned can be seen in the word 'grade'. As an Indian and an individual who has gone over their dataset many times, I understand that in this context, 'grade' is used to refer to numerical levels of education, such as the 5th grade or the 8th grade. Here, it does not mean 'grade' as in to assign a grade such as A, B+ or F.\n",
    "\n"
   ]
  },
  {
   "cell_type": "markdown",
   "metadata": {},
   "source": [
    "#### BARPLOT"
   ]
  },
  {
   "cell_type": "code",
   "execution_count": 26,
   "metadata": {},
   "outputs": [
    {
     "data": {
      "image/png": "[encoded data removed]",
      "text/plain": [
       "<Figure size 720x451.44 with 1 Axes>"
      ]
     },
     "metadata": {},
     "output_type": "display_data"
    }
   ],
   "source": [
    "sns.set(rc={'figure.figsize':(10,6.27)})\n",
    "hr_barplot = sns.barplot(x = \"Frequency\", \n",
    "                         y = \"Word\", \n",
    "                         data = stop_df, \n",
    "                         orient = \"h\")\n",
    "#plt.savefig('Frequency of Words Barplot.png', dpi = 180, bbox_inches='tight')"
   ]
  },
  {
   "cell_type": "markdown",
   "metadata": {},
   "source": [
    "Here is a different way of visualizing the same data since looking at them differently sometimes provides different insights. This is a bar plot of the 20 most frequently used words in our responses. They represent the same corpus of words shown in the Word cloud. \n",
    "\n",
    "Insolation, they don't indicate much. The two most common words 'topics' and 'school' are not surprising because they are what the survey question asks about. Almost every participant would have used those as anchors to provide relevant answers to the question. However, when considered in conjunction with our demographic and curricular data, the words gain context, and hence make more sense. \n",
    "\n",
    "For instance, we know that participants felt that a vast majority of topics detailed in the survey were 'Never' discussed (Heatmap). This adds additional weight to words such as 'discussed', 'approached', 'issues', 'dont', 'covered', 'think'. This cluster of frequent words, combined with high frequency of 'never' and 'rarely' from this section, and the high rates of 'Never' and low rates of 'Very Frequently' from the heatmap, spin a narrative centered on the characters of 'girls', 'boys' and 'teachers’. If each of those characters independently have a high enough word-frequency to make it on the 'top 20' list, it is reasonable to assume that they were addressed as independent entities in the free responses by participants. I'm hesitant to say that 'girls' and 'boys' being mentioned frequently and separately is indicative of gender disparity when it comes to addressing these topics. Due to the large number of female identifying participants in the survey, it is possible that the personal experiences of girls were talking about more in the responses - resulting in the higher frequency of 'girls' because of that. \n",
    "\n",
    "Either way, I hypothesis that there continues a narrative of teachers rarely addressing or approaching topics in the survey that students in school are interested in.  "
   ]
  },
  {
   "cell_type": "markdown",
   "metadata": {},
   "source": [
    "### Fitting our Topic Model\n",
    "\n",
    "Here I'm using Term frequency-inverse document frequency (TFIDF) wherein words with higher frequency in a response are rated lower (inverse document frequency) in order to build the Document Term Matrix (DTM). TFIDF will encode in a way that preserves the importance of words (in terms of frequency) while a Bag of Words model will simply create a matrix based on word count. This is my rationale behind choosing the TfidfVectorizer( ).  "
   ]
  },
  {
   "cell_type": "code",
   "execution_count": 27,
   "metadata": {},
   "outputs": [],
   "source": [
    "# How many topics?\n",
    "n_topics = 4\n"
   ]
  },
  {
   "cell_type": "markdown",
   "metadata": {},
   "source": [
    "Our dataset is small; therefore, I believe that there won't be a large number of topics to extract. Considering more than 5 will result in considerably overlapping topics. Even 5 gave me topics that didn't seem to have an overarching point. Settled for 3"
   ]
  },
  {
   "cell_type": "code",
   "execution_count": 28,
   "metadata": {},
   "outputs": [],
   "source": [
    "# TfidfVectorizer to create the DTM\n",
    "tfidf_vectorizer = TfidfVectorizer(max_df = 0.90,\n",
    "                                   max_features = 5000,\n",
    "                                   stop_words = \"english\")\n",
    "\n",
    "# Fit\n",
    "tfidf = tfidf_vectorizer.fit_transform(copy)"
   ]
  },
  {
   "cell_type": "code",
   "execution_count": 29,
   "metadata": {},
   "outputs": [],
   "source": [
    "# Instantiate our LDA model\n",
    "lda = LatentDirichletAllocation(n_components = n_topics, \n",
    "                                max_iter = 20, \n",
    "                                random_state = 9)\n",
    "lda = lda.fit(tfidf)"
   ]
  },
  {
   "cell_type": "code",
   "execution_count": 30,
   "metadata": {},
   "outputs": [
    {
     "name": "stdout",
     "output_type": "stream",
     "text": [
      "\n"
     ]
    }
   ],
   "source": [
    "#function to display topics in a formatted manner\n",
    "def print_top_words(model, feature_names, n_top_words):\n",
    "    for topic_idx, topic in enumerate(model.components_):\n",
    "        print(\"\\nTopic #{}:\".format(topic_idx))\n",
    "        print(\" \".join([feature_names[i]\n",
    "                        for i in topic.argsort()[:-n_top_words - 1:-1]]))\n",
    "print()"
   ]
  },
  {
   "cell_type": "markdown",
   "metadata": {},
   "source": [
    "#### TOPIC EXTRACTION "
   ]
  },
  {
   "cell_type": "code",
   "execution_count": 31,
   "metadata": {},
   "outputs": [
    {
     "name": "stdout",
     "output_type": "stream",
     "text": [
      "\n",
      "Topic #0:\n",
      "discussed sex approached people health addressed teacher feel actually college sexual institution know team problems related class touched menstruation talk\n",
      "\n",
      "Topic #1:\n",
      "topics school schools really education important certain environment sports lot way used level good life introduced crime took obey carpet\n",
      "\n",
      "Topic #2:\n",
      "girls students covered boys rarely gender spoken discuss tried mental talking importance talked allowed different curriculum seminars faced separate social\n",
      "\n",
      "Topic #3:\n",
      "think teachers topic dont like issues grade things werent discussions taught pretty went deemed weren repercussions surface open considered sessions\n"
     ]
    }
   ],
   "source": [
    "# Return the topics\n",
    "tf_feature_names = tfidf_vectorizer.get_feature_names()\n",
    "print_top_words(lda, tf_feature_names, 20)"
   ]
  },
  {
   "cell_type": "markdown",
   "metadata": {},
   "source": [
    "#### VISUALISATION & MULTIDIMENSIONAL SCALING (PCA)"
   ]
  },
  {
   "cell_type": "code",
   "execution_count": 32,
   "metadata": {
    "scrolled": false
   },
   "outputs": [
    {
     "data": {
      "text/html": [
       "\n",
       "<link rel=\"stylesheet\" type=\"text/css\" href=\"https://cdn.rawgit.com/bmabey/pyLDAvis/files/ldavis.v1.0.0.css\">\n",
       "\n",
       "\n",
       "<div id=\"ldavis_el35599140631492288720130909178\"></div>\n",
       "<script type=\"text/javascript\">\n",
       "\n",
       "var ldavis_el35599140631492288720130909178_data = {\"mdsDat\": {\"x\": [-0.11073633146446168, 0.19068149530171535, -0.058969998561890544, -0.02097516527536311], \"y\": [0.1488709011630994, 0.03360605160462475, -0.1644929192102076, -0.017984033557516547], \"topics\": [1, 2, 3, 4], \"cluster\": [1, 1, 1, 1], \"Freq\": [25.203294712239536, 25.059299102655018, 24.90389978957993, 24.833506395525518]}, \"tinfo\": {\"Term\": [\"topics\", \"school\", \"girls\", \"students\", \"think\", \"teachers\", \"discussed\", \"covered\", \"schools\", \"boys\", \"sex\", \"topic\", \"rarely\", \"dont\", \"like\", \"issues\", \"grade\", \"really\", \"approached\", \"people\", \"things\", \"education\", \"health\", \"werent\", \"addressed\", \"discussions\", \"gender\", \"teacher\", \"important\", \"certain\", \"girls\", \"students\", \"covered\", \"boys\", \"rarely\", \"gender\", \"spoken\", \"discuss\", \"tried\", \"mental\", \"talking\", \"importance\", \"talked\", \"allowed\", \"different\", \"curriculum\", \"seminars\", \"faced\", \"separate\", \"social\", \"explained\", \"generally\", \"workshops\", \"freely\", \"need\", \"sure\", \"wore\", \"planning\", \"terms\", \"touch\", \"topics\", \"school\", \"schools\", \"really\", \"education\", \"important\", \"certain\", \"environment\", \"sports\", \"lot\", \"way\", \"used\", \"level\", \"good\", \"life\", \"introduced\", \"crime\", \"took\", \"obey\", \"carpet\", \"authority\", \"keen\", \"try\", \"aware\", \"harassment\", \"right\", \"consensual\", \"lectures\", \"girl\", \"taking\", \"think\", \"teachers\", \"topic\", \"dont\", \"like\", \"issues\", \"grade\", \"things\", \"werent\", \"discussions\", \"taught\", \"pretty\", \"went\", \"deemed\", \"weren\", \"repercussions\", \"surface\", \"open\", \"considered\", \"sessions\", \"teaching\", \"taboo\", \"effort\", \"didnt\", \"time\", \"definitely\", \"financial\", \"shirtless\", \"tackle\", \"came\", \"discussed\", \"sex\", \"approached\", \"people\", \"health\", \"addressed\", \"teacher\", \"feel\", \"actually\", \"college\", \"sexual\", \"institution\", \"know\", \"team\", \"problems\", \"related\", \"class\", \"touched\", \"menstruation\", \"talk\", \"mentality\", \"discrimination\", \"given\", \"opinion\", \"rules\", \"consider\", \"equality\", \"faculty\", \"situation\", \"policing\"], \"Freq\": [24.0, 23.0, 13.0, 11.0, 9.0, 8.0, 8.0, 7.0, 6.0, 6.0, 6.0, 6.0, 6.0, 5.0, 5.0, 5.0, 5.0, 5.0, 5.0, 5.0, 5.0, 5.0, 5.0, 5.0, 5.0, 5.0, 5.0, 4.0, 4.0, 4.0, 12.634105147655964, 11.04541710426792, 6.918703041980235, 6.0706432934917975, 5.631617518653135, 4.576694670543332, 4.101599364678221, 4.101599364673426, 3.4452492758290347, 3.445249275825972, 3.445249275824828, 2.788896794446114, 2.7888967944423904, 2.788896794441027, 2.78889679443648, 2.7888967944304106, 2.563850414789349, 2.1325395002399103, 2.132539500227961, 2.1325395002267173, 2.1325395002171446, 2.1325395002056338, 2.1325395001939875, 2.1325395001871694, 2.1325395001679683, 2.1325395001638876, 2.132539500148733, 2.132539500142757, 2.13253950009606, 1.4761701155997846, 24.240948890511007, 23.160199956304442, 6.287071215858104, 5.420048779505018, 4.7630041455612915, 4.10595867178071, 4.105958671780231, 4.105958671779731, 3.4489118488380086, 3.4489118488306345, 3.448911848829227, 2.7918626532114716, 2.791862653190759, 2.1348086847791796, 2.13480868474901, 2.1348086847477665, 1.4777427270267989, 1.4777427270121086, 1.4777427269486492, 1.4777427269408063, 1.4777427269349734, 1.4777427269200254, 1.47774272691923, 1.4777427269190144, 1.4777427269102037, 1.4777427268931307, 1.4777427268686045, 1.4777427268653995, 1.4777427268592622, 1.477742726845932, 8.71237064865507, 8.054791791070722, 5.830670576422326, 5.424474140842681, 5.424474140842245, 5.424474140841953, 5.424474140841848, 4.766893693078022, 4.581647491763831, 4.537973530258268, 3.2830952296834983, 3.219987138578625, 2.7941448267433575, 2.7941448267418276, 2.7941448267377305, 2.7941448267335995, 2.7941448267325257, 2.7941448267322966, 2.7941448267271345, 2.794144826721469, 2.794144826706805, 2.5687137397970203, 2.1365551276758374, 2.1365551276449706, 2.1365551276356025, 2.136555127619764, 2.1365551275692356, 1.4789535468150026, 1.4789535467878292, 1.4789535467679868, 7.605232266142137, 5.902337592243994, 5.309871467427145, 4.784973433553483, 4.599054325983539, 4.555178960043332, 4.124898798470281, 3.4648228334185673, 3.4648228334175735, 3.464822833414672, 3.464822833408687, 3.4648228334043867, 3.2338745625846848, 2.8047445294864155, 2.804744529475748, 2.8047445294658684, 2.8047445294655966, 2.8047445294605264, 2.3295189094009503, 2.1446615209846436, 2.144661520950732, 2.1446615209503417, 2.1446615209466384, 2.144661520896762, 1.484566695641486, 1.484566695520178, 1.484566695510969, 1.484566695454533, 1.4845666954364807, 1.4845666954349663], \"Total\": [24.0, 23.0, 13.0, 11.0, 9.0, 8.0, 8.0, 7.0, 6.0, 6.0, 6.0, 6.0, 6.0, 5.0, 5.0, 5.0, 5.0, 5.0, 5.0, 5.0, 5.0, 5.0, 5.0, 5.0, 5.0, 5.0, 5.0, 4.0, 4.0, 4.0, 13.128322786323668, 11.539629670101249, 7.414490593708161, 6.5648691201151586, 6.127742573919009, 5.07197363297274, 4.595833035741294, 4.595833035741304, 3.939487680373769, 3.939487680373777, 3.939487680373776, 3.283142331903801, 3.283142331903813, 3.283142331903811, 3.283142331903814, 3.283142331903833, 3.060269647804388, 2.6267969973090506, 2.6267969973090817, 2.62679699730913, 2.6267969973091354, 2.626796997309126, 2.626796997309167, 2.6267969973091927, 2.6267969973092744, 2.626796997309259, 2.6267969973093135, 2.6267969973093472, 2.6267969973094827, 1.9704516975712694, 24.735470478603876, 23.654234973302255, 6.782799462498387, 5.914097155826847, 5.257055017384103, 4.600012880179521, 4.600012880179519, 4.600012880179522, 3.942970744964012, 3.9429707449640166, 3.9429707449640206, 3.2859286132466092, 3.2859286132466363, 2.62888648856602, 2.6288864885661187, 2.6288864885661134, 1.9718443815628182, 1.9718443815628923, 1.9718443815630238, 1.9718443815628541, 1.9718443815630073, 1.9718443815629805, 1.9718443815631077, 1.9718443815630093, 1.9718443815631588, 1.9718443815630449, 1.9718443815630982, 1.9718443815632098, 1.9718443815630493, 1.9718443815631517, 9.206273132835587, 8.548695155164872, 6.325486759643012, 5.918383245345131, 5.918383245345133, 5.91838324534513, 5.9183832453451295, 5.260805268292715, 5.076626237944941, 5.033062140488739, 3.778436632122804, 3.715548700474682, 3.2880713400609065, 3.288071340060918, 3.28807134006091, 3.2880713400609074, 3.288071340060918, 3.2880713400609096, 3.2880713400609056, 3.2880713400609465, 3.288071340060927, 3.064775842042603, 2.6304933666063235, 2.6304933666063306, 2.6304933666063786, 2.6304933666063333, 2.630493366606413, 1.9729153977736655, 1.9729153977737304, 1.972915397773684, 8.099206266284877, 6.396460321520859, 5.803874987444167, 5.27825612671824, 5.093368961558097, 5.049646124069615, 4.618184760748268, 3.9581133885726008, 3.958113388572595, 3.958113388572583, 3.9581133885725532, 3.9581133885725337, 3.727141681143049, 3.2980420054836204, 3.2980420054835764, 3.2980420054835276, 3.2980420054835267, 3.298042005483502, 2.827626811845854, 2.637970600442973, 2.6379706004428116, 2.637970600442818, 2.637970600442806, 2.6379706004425714, 1.9778991402647335, 1.9778991402641881, 1.97789914026412, 1.97789914026391, 1.9778991402637551, 1.9778991402637576], \"Category\": [\"Default\", \"Default\", \"Default\", \"Default\", \"Default\", \"Default\", \"Default\", \"Default\", \"Default\", \"Default\", \"Default\", \"Default\", \"Default\", \"Default\", \"Default\", \"Default\", \"Default\", \"Default\", \"Default\", \"Default\", \"Default\", \"Default\", \"Default\", \"Default\", \"Default\", \"Default\", \"Default\", \"Default\", \"Default\", \"Default\", \"Topic1\", \"Topic1\", \"Topic1\", \"Topic1\", \"Topic1\", \"Topic1\", \"Topic1\", \"Topic1\", \"Topic1\", \"Topic1\", \"Topic1\", \"Topic1\", \"Topic1\", \"Topic1\", \"Topic1\", \"Topic1\", \"Topic1\", \"Topic1\", \"Topic1\", \"Topic1\", \"Topic1\", \"Topic1\", \"Topic1\", \"Topic1\", \"Topic1\", \"Topic1\", \"Topic1\", \"Topic1\", \"Topic1\", \"Topic1\", \"Topic2\", \"Topic2\", \"Topic2\", \"Topic2\", \"Topic2\", \"Topic2\", \"Topic2\", \"Topic2\", \"Topic2\", \"Topic2\", \"Topic2\", \"Topic2\", \"Topic2\", \"Topic2\", \"Topic2\", \"Topic2\", \"Topic2\", \"Topic2\", \"Topic2\", \"Topic2\", \"Topic2\", \"Topic2\", \"Topic2\", \"Topic2\", \"Topic2\", \"Topic2\", \"Topic2\", \"Topic2\", \"Topic2\", \"Topic2\", \"Topic3\", \"Topic3\", \"Topic3\", \"Topic3\", \"Topic3\", \"Topic3\", \"Topic3\", \"Topic3\", \"Topic3\", \"Topic3\", \"Topic3\", \"Topic3\", \"Topic3\", \"Topic3\", \"Topic3\", \"Topic3\", \"Topic3\", \"Topic3\", \"Topic3\", \"Topic3\", \"Topic3\", \"Topic3\", \"Topic3\", \"Topic3\", \"Topic3\", \"Topic3\", \"Topic3\", \"Topic3\", \"Topic3\", \"Topic3\", \"Topic4\", \"Topic4\", \"Topic4\", \"Topic4\", \"Topic4\", \"Topic4\", \"Topic4\", \"Topic4\", \"Topic4\", \"Topic4\", \"Topic4\", \"Topic4\", \"Topic4\", \"Topic4\", \"Topic4\", \"Topic4\", \"Topic4\", \"Topic4\", \"Topic4\", \"Topic4\", \"Topic4\", \"Topic4\", \"Topic4\", \"Topic4\", \"Topic4\", \"Topic4\", \"Topic4\", \"Topic4\", \"Topic4\", \"Topic4\"], \"logprob\": [30.0, 29.0, 28.0, 27.0, 26.0, 25.0, 24.0, 23.0, 22.0, 21.0, 20.0, 19.0, 18.0, 17.0, 16.0, 15.0, 14.0, 13.0, 12.0, 11.0, 10.0, 9.0, 8.0, 7.0, 6.0, 5.0, 4.0, 3.0, 2.0, 1.0, -3.2294, -3.3638, -3.8316, -3.9623, -4.0374, -4.2448, -4.3544, -4.3544, -4.5288, -4.5288, -4.5288, -4.7402, -4.7402, -4.7402, -4.7402, -4.7402, -4.8243, -5.0085, -5.0085, -5.0085, -5.0085, -5.0085, -5.0085, -5.0085, -5.0085, -5.0085, -5.0085, -5.0085, -5.0085, -5.3764, -2.572, -2.6176, -3.9216, -4.07, -4.1992, -4.3476, -4.3476, -4.3476, -4.522, -4.522, -4.522, -4.7334, -4.7334, -5.0017, -5.0017, -5.0017, -5.3696, -5.3696, -5.3696, -5.3696, -5.3696, -5.3696, -5.3696, -5.3696, -5.3696, -5.3696, -5.3696, -5.3696, -5.3696, -5.3696, -3.5891, -3.6676, -3.9907, -4.0629, -4.0629, -4.0629, -4.0629, -4.1922, -4.2318, -4.2414, -4.5651, -4.5845, -4.7263, -4.7263, -4.7263, -4.7263, -4.7263, -4.7263, -4.7263, -4.7263, -4.7263, -4.8105, -4.9947, -4.9947, -4.9947, -4.9947, -4.9947, -5.3625, -5.3625, -5.3625, -3.7222, -3.9757, -4.0815, -4.1855, -4.2252, -4.2348, -4.334, -4.5084, -4.5084, -4.5084, -4.5084, -4.5084, -4.5773, -4.7197, -4.7197, -4.7197, -4.7197, -4.7197, -4.9054, -4.988, -4.988, -4.988, -4.988, -4.988, -5.3559, -5.3559, -5.3559, -5.3559, -5.3559, -5.3559], \"loglift\": [30.0, 29.0, 28.0, 27.0, 26.0, 25.0, 24.0, 23.0, 22.0, 21.0, 20.0, 19.0, 18.0, 17.0, 16.0, 15.0, 14.0, 13.0, 12.0, 11.0, 10.0, 9.0, 8.0, 7.0, 6.0, 5.0, 4.0, 3.0, 2.0, 1.0, 1.3398, 1.3344, 1.309, 1.2999, 1.2938, 1.2754, 1.2644, 1.2644, 1.2441, 1.2441, 1.2441, 1.215, 1.215, 1.215, 1.215, 1.215, 1.2012, 1.1697, 1.1697, 1.1697, 1.1697, 1.1697, 1.1697, 1.1697, 1.1697, 1.1697, 1.1697, 1.1697, 1.1697, 1.0894, 1.3637, 1.3628, 1.308, 1.2967, 1.2852, 1.2703, 1.2703, 1.2703, 1.25, 1.25, 1.25, 1.221, 1.221, 1.1757, 1.1757, 1.1757, 1.0955, 1.0955, 1.0955, 1.0955, 1.0955, 1.0955, 1.0955, 1.0955, 1.0955, 1.0955, 1.0955, 1.0955, 1.0955, 1.0955, 1.335, 1.3306, 1.3087, 1.303, 1.303, 1.303, 1.303, 1.2916, 1.2876, 1.2866, 1.2496, 1.247, 1.2274, 1.2274, 1.2274, 1.2274, 1.2274, 1.2274, 1.2274, 1.2274, 1.2274, 1.2136, 1.1822, 1.1822, 1.1822, 1.1822, 1.1822, 1.102, 1.102, 1.102, 1.33, 1.3126, 1.304, 1.2949, 1.2909, 1.2899, 1.28, 1.2599, 1.2599, 1.2599, 1.2599, 1.2599, 1.251, 1.231, 1.231, 1.231, 1.231, 1.231, 1.1992, 1.1859, 1.1859, 1.1859, 1.1859, 1.1859, 1.1061, 1.1061, 1.1061, 1.1061, 1.1061, 1.1061]}, \"token.table\": {\"Topic\": [4, 4, 1, 4, 2, 2, 1, 3, 2, 2, 4, 4, 2, 4, 3, 1, 2, 1, 3, 3, 3, 1, 4, 1, 4, 3, 3, 2, 3, 2, 4, 1, 1, 4, 4, 3, 1, 1, 1, 2, 1, 4, 2, 3, 2, 4, 1, 2, 4, 2, 3, 2, 4, 2, 2, 2, 3, 2, 4, 1, 4, 1, 2, 3, 4, 4, 1, 4, 3, 4, 1, 2, 4, 3, 2, 4, 2, 2, 1, 1, 3, 4, 4, 3, 4, 1, 1, 2, 1, 1, 3, 3, 3, 2, 4, 1, 1, 3, 4, 3, 3, 4, 1, 3, 3, 3, 2, 3, 2, 1, 4, 1, 2, 2, 2, 3, 3, 3, 1, 1], \"Freq\": [0.7579368515973421, 0.9901683953984474, 0.9137587398656507, 0.8614934006705464, 0.5071394118877359, 0.5071394118877355, 0.913955768229352, 0.506864106351666, 0.5071394118877753, 0.8695627825815777, 0.9096306217483029, 0.7579368515973445, 0.5071394118877126, 0.5055869531681124, 0.9123889629306007, 0.9440972257676216, 0.5071394118877847, 0.9137587398656445, 0.9123889629305972, 0.7603136451091876, 0.7603136451091884, 0.9137587398656498, 0.7581585631258642, 0.8703536374999757, 0.987751112513599, 0.9934310088836836, 0.8448253167674721, 0.9511028481661177, 0.7603136451091905, 0.8695627825815772, 0.5055869531681298, 0.7613835412667138, 0.7613835412667384, 0.5055869531681836, 0.757936851597341, 0.7603136451091645, 0.7613835412666972, 0.9858095411804112, 0.7613835412667165, 0.5071394118877252, 0.9902255003619086, 0.7581585631258676, 0.7607783784878976, 0.8448253167674723, 0.5071394118876971, 0.9816685258298007, 0.9137587398656534, 0.8695627825815774, 0.7579368515973539, 0.7607783784878707, 0.8448253167674722, 0.5071394118877429, 0.8049063482555759, 0.5071394118876839, 0.9129839242112668, 0.7607783784878691, 0.8448253167674719, 0.7608476435772739, 0.7073069160404568, 0.761520340562497, 0.7581585631258659, 0.7613835412666735, 0.5071394118877317, 0.9123889629305996, 0.758158563125935, 0.9472825645368509, 0.7613835412666524, 0.5055869531682226, 0.8074177576024595, 0.9096306217482891, 0.9791534039855544, 0.8454375821462055, 0.9096306217483026, 0.9123889629306001, 0.5071394118877264, 0.5055869531679731, 0.9723417403251186, 0.8845905047279624, 0.980305772124483, 0.7613835412667294, 0.9123889629305894, 0.9380187945218749, 0.7579368515973501, 0.5068641063516708, 0.5055869531682231, 0.7613835412667154, 0.8703536374999776, 0.7608476435772747, 0.9532368294712776, 0.7613835412666781, 0.9123889629305972, 0.9788644111735653, 0.5068641063516541, 0.5071394118876988, 0.7581585631258196, 0.91375873986565, 0.7615203405624972, 0.793979175009887, 0.8661411804043747, 0.9358153326085834, 0.9123889629305947, 0.909630621748277, 0.7613835412666131, 0.9504248389757727, 0.9775942849121125, 0.7603136451091745, 0.5071394118877656, 0.9485436027279929, 0.970266566013367, 0.5074978499765184, 0.9096306217483097, 0.7615203405624985, 0.5071394118877102, 0.9129839242112743, 0.7608476435772731, 0.9123889629306003, 0.9123889629305995, 0.9849060706159136, 0.7613835412666622, 0.7613835412667047], \"Term\": [\"actually\", \"addressed\", \"allowed\", \"approached\", \"authority\", \"aware\", \"boys\", \"came\", \"carpet\", \"certain\", \"class\", \"college\", \"consensual\", \"consider\", \"considered\", \"covered\", \"crime\", \"curriculum\", \"deemed\", \"definitely\", \"didnt\", \"different\", \"discrimination\", \"discuss\", \"discussed\", \"discussions\", \"dont\", \"education\", \"effort\", \"environment\", \"equality\", \"explained\", \"faced\", \"faculty\", \"feel\", \"financial\", \"freely\", \"gender\", \"generally\", \"girl\", \"girls\", \"given\", \"good\", \"grade\", \"harassment\", \"health\", \"importance\", \"important\", \"institution\", \"introduced\", \"issues\", \"keen\", \"know\", \"lectures\", \"level\", \"life\", \"like\", \"lot\", \"menstruation\", \"mental\", \"mentality\", \"need\", \"obey\", \"open\", \"opinion\", \"people\", \"planning\", \"policing\", \"pretty\", \"problems\", \"rarely\", \"really\", \"related\", \"repercussions\", \"right\", \"rules\", \"school\", \"schools\", \"seminars\", \"separate\", \"sessions\", \"sex\", \"sexual\", \"shirtless\", \"situation\", \"social\", \"spoken\", \"sports\", \"students\", \"sure\", \"surface\", \"taboo\", \"tackle\", \"taking\", \"talk\", \"talked\", \"talking\", \"taught\", \"teacher\", \"teachers\", \"teaching\", \"team\", \"terms\", \"things\", \"think\", \"time\", \"took\", \"topic\", \"topics\", \"touch\", \"touched\", \"tried\", \"try\", \"used\", \"way\", \"went\", \"weren\", \"werent\", \"wore\", \"workshops\"]}, \"R\": 30, \"lambda.step\": 0.01, \"plot.opts\": {\"xlab\": \"PC1\", \"ylab\": \"PC2\"}, \"topic.order\": [3, 2, 4, 1]};\n",
       "\n",
       "function LDAvis_load_lib(url, callback){\n",
       "  var s = document.createElement('script');\n",
       "  s.src = url;\n",
       "  s.async = true;\n",
       "  s.onreadystatechange = s.onload = callback;\n",
       "  s.onerror = function(){console.warn(\"failed to load library \" + url);};\n",
       "  document.getElementsByTagName(\"head\")[0].appendChild(s);\n",
       "}\n",
       "\n",
       "if(typeof(LDAvis) !== \"undefined\"){\n",
       "   // already loaded: just create the visualization\n",
       "   !function(LDAvis){\n",
       "       new LDAvis(\"#\" + \"ldavis_el35599140631492288720130909178\", ldavis_el35599140631492288720130909178_data);\n",
       "   }(LDAvis);\n",
       "}else if(typeof define === \"function\" && define.amd){\n",
       "   // require.js is available: use it to load d3/LDAvis\n",
       "   require.config({paths: {d3: \"https://cdnjs.cloudflare.com/ajax/libs/d3/3.5.5/d3.min\"}});\n",
       "   require([\"d3\"], function(d3){\n",
       "      window.d3 = d3;\n",
       "      LDAvis_load_lib(\"https://cdn.rawgit.com/bmabey/pyLDAvis/files/ldavis.v1.0.0.js\", function(){\n",
       "        new LDAvis(\"#\" + \"ldavis_el35599140631492288720130909178\", ldavis_el35599140631492288720130909178_data);\n",
       "      });\n",
       "    });\n",
       "}else{\n",
       "    // require.js not available: dynamically load d3 & LDAvis\n",
       "    LDAvis_load_lib(\"https://cdnjs.cloudflare.com/ajax/libs/d3/3.5.5/d3.min.js\", function(){\n",
       "         LDAvis_load_lib(\"https://cdn.rawgit.com/bmabey/pyLDAvis/files/ldavis.v1.0.0.js\", function(){\n",
       "                 new LDAvis(\"#\" + \"ldavis_el35599140631492288720130909178\", ldavis_el35599140631492288720130909178_data);\n",
       "            })\n",
       "         });\n",
       "}\n",
       "</script>"
      ],
      "text/plain": [
       "<IPython.core.display.HTML object>"
      ]
     },
     "execution_count": 32,
     "metadata": {},
     "output_type": "execute_result"
    }
   ],
   "source": [
    "panel = pyLDAvis.sklearn.prepare(lda_model = lda, \n",
    "                                 dtm = tfidf, \n",
    "                                 vectorizer = tfidf_vectorizer, \n",
    "                                 mds = \"PCoA\")\n",
    "pyLDAvis.display(panel)"
   ]
  },
  {
   "cell_type": "markdown",
   "metadata": {},
   "source": [
    "\\*The Topic numbers are based on the pyLDAvis and not the printed topics - they are the same, only different in numbering. \n",
    "\n",
    "#### TOPICS EXTRACTED\n",
    "\n",
    "|Topic # |Overarching Topic        | Relevent Words\n",
    "|:-:     |:-:                      |:-:\n",
    "|1       |Treated as Hostile       |crime, obey, authority,harassment,taking, right, girl, introduced, important, topics, school, education\n",
    "|2       |Rare Dialogue on Gender & Mental Health   |girls, boys, students, covered, rarely, gender, spoken, discuss, tried, mental, talked, importance, different, curriculum, separate, social,workshops, need, wore, planning \n",
    "|3       |Taught not Discussed     |think, teachers, topic, dont, like, issues, werent, discussions, taught, repercussions, surface, sessions, taboo, didnt, tackle\n",
    "|4       |Emphasis on Health       |discussed, sex, health, approached, teacher, college, sexual, institution, problems, related, touched, menstruation, mentality, discrimination, opinion, rules, given, equality, policing, situation\n"
   ]
  },
  {
   "cell_type": "markdown",
   "metadata": {},
   "source": [
    "## Contextual Similarity using Word2Vec"
   ]
  },
  {
   "cell_type": "code",
   "execution_count": 40,
   "metadata": {
    "scrolled": true
   },
   "outputs": [],
   "source": [
    "# First, store the documents we want to explore in a separate dataframe with just one column\n",
    "w2v_df = pd.DataFrame({'Processed': survey[\"Text processed\"]})\n",
    "#w2v_df"
   ]
  },
  {
   "cell_type": "code",
   "execution_count": 41,
   "metadata": {},
   "outputs": [],
   "source": [
    "# Turn the text of each row into a list\n",
    "# We now have a list of lists - one for each document\n",
    "split_rows = [row.split() for row in w2v_df['Processed']]\n",
    "#split_rows"
   ]
  },
  {
   "cell_type": "code",
   "execution_count": 42,
   "metadata": {},
   "outputs": [],
   "source": [
    "no_stop = []\n",
    "for response in split_rows:\n",
    "    no_stop.append([word for word in response if word not in stop])\n",
    "#no_stop"
   ]
  },
  {
   "cell_type": "markdown",
   "metadata": {},
   "source": [
    "### Define Model\n",
    "\n",
    "There were two possible methods of vectorizing the words: skip grams or CBOW (Continuous Bag Of Words). The essential difference between the two is that in CBOW, context (a set of words within a fixed window) is used to predict the word in the middle, while for Skip grams, the model learns to predict a word using another nearby word. I decided to go with CBOW even though Skip grams are better for smaller amounts of data because CBOW is better at predicting in a data set that contains more frequent words. Free responses contain a lexicon of daily speech. They are unlikely to contain rare words. Therefore, in my opinion CBOW will give me better accuracy."
   ]
  },
  {
   "cell_type": "code",
   "execution_count": 43,
   "metadata": {},
   "outputs": [],
   "source": [
    "# Define the word2vec model\n",
    "model = gensim.models.Word2Vec(no_stop, \n",
    "                               min_count = 2,\n",
    "                               size = 12, \n",
    "                               workers = 1, \n",
    "                               window = 3, \n",
    "                               sg = 0)\n"
   ]
  },
  {
   "cell_type": "code",
   "execution_count": 44,
   "metadata": {},
   "outputs": [],
   "source": [
    "# Save the vocabulary \n",
    "words = list(model.wv.vocab)"
   ]
  },
  {
   "cell_type": "markdown",
   "metadata": {},
   "source": [
    "### Some Interesting Insights"
   ]
  },
  {
   "cell_type": "markdown",
   "metadata": {},
   "source": [
    "#### Comparing Similarities"
   ]
  },
  {
   "cell_type": "code",
   "execution_count": 53,
   "metadata": {},
   "outputs": [
    {
     "data": {
      "text/plain": [
       "0.3279189"
      ]
     },
     "execution_count": 53,
     "metadata": {},
     "output_type": "execute_result"
    }
   ],
   "source": [
    "model.similarity(\"topics\", \"school\")"
   ]
  },
  {
   "cell_type": "markdown",
   "metadata": {},
   "source": [
    "#### \"Pick the Odd One Out\""
   ]
  },
  {
   "cell_type": "code",
   "execution_count": 52,
   "metadata": {
    "scrolled": false
   },
   "outputs": [
    {
     "data": {
      "text/plain": [
       "'school'"
      ]
     },
     "execution_count": 52,
     "metadata": {},
     "output_type": "execute_result"
    }
   ],
   "source": [
    "model.doesnt_match([\"sex\",\"school\",\"topics\",\"discussed\"])"
   ]
  },
  {
   "cell_type": "markdown",
   "metadata": {},
   "source": [
    "#### \"Most Similar To\""
   ]
  },
  {
   "cell_type": "code",
   "execution_count": 54,
   "metadata": {},
   "outputs": [
    {
     "data": {
      "text/plain": [
       "[('sports', 0.5980429649353027),\n",
       " ('could', 0.5762518644332886),\n",
       " ('merely', 0.5600084662437439),\n",
       " ('used', 0.5408079624176025),\n",
       " ('staff', 0.518976628780365)]"
      ]
     },
     "execution_count": 54,
     "metadata": {},
     "output_type": "execute_result"
    }
   ],
   "source": [
    "model.wv.most_similar(negative = [\"sex\",\"topics\",\"teachers\",\"school\"], topn = 5)"
   ]
  },
  {
   "cell_type": "code",
   "execution_count": 55,
   "metadata": {
    "scrolled": true
   },
   "outputs": [
    {
     "data": {
      "text/plain": [
       "[('programs', 0.6856040954589844),\n",
       " ('females', 0.6050548553466797),\n",
       " ('important', 0.5821534395217896),\n",
       " ('kids', 0.559211254119873),\n",
       " ('part', 0.5216257572174072)]"
      ]
     },
     "execution_count": 55,
     "metadata": {},
     "output_type": "execute_result"
    }
   ],
   "source": [
    "model.wv.most_similar(positive = [\"education\",\"sex\"], topn = 5)"
   ]
  },
  {
   "cell_type": "code",
   "execution_count": 56,
   "metadata": {
    "scrolled": false
   },
   "outputs": [
    {
     "data": {
      "text/plain": [
       "[('staff', 0.8493242263793945),\n",
       " ('gender', 0.7080754041671753),\n",
       " ('called', 0.6825517416000366),\n",
       " ('effort', 0.6405244469642639),\n",
       " ('know', 0.6075073480606079)]"
      ]
     },
     "execution_count": 56,
     "metadata": {},
     "output_type": "execute_result"
    }
   ],
   "source": [
    "model.wv.most_similar(negative = [\"school\",\"curriculum\"], topn = 5)"
   ]
  },
  {
   "cell_type": "markdown",
   "metadata": {},
   "source": [
    "**Education is to Sex what Discussed is to ___________**"
   ]
  },
  {
   "cell_type": "code",
   "execution_count": 57,
   "metadata": {
    "scrolled": false
   },
   "outputs": [
    {
     "data": {
      "text/plain": [
       "'think'"
      ]
     },
     "execution_count": 57,
     "metadata": {},
     "output_type": "execute_result"
    }
   ],
   "source": [
    "model.wv.most_similar(positive = [\"discussed\", \"sex\"],negative = [\"education\"])[0][0]"
   ]
  },
  {
   "cell_type": "markdown",
   "metadata": {},
   "source": [
    "**Words that are more than 50% similar to 'sex'**"
   ]
  },
  {
   "cell_type": "code",
   "execution_count": 58,
   "metadata": {},
   "outputs": [
    {
     "data": {
      "text/plain": [
       "['sex', 'think', 'seminar', 'important', 'grade', 'came', 'asked', 'moral']"
      ]
     },
     "execution_count": 58,
     "metadata": {},
     "output_type": "execute_result"
    }
   ],
   "source": [
    "[word for word in words if model.similarity(\"sex\",word) > 0.5]"
   ]
  },
  {
   "cell_type": "code",
   "execution_count": 59,
   "metadata": {},
   "outputs": [],
   "source": [
    "# Save the word2vec vocab\n",
    "features = model[model.wv.vocab]"
   ]
  },
  {
   "cell_type": "markdown",
   "metadata": {},
   "source": [
    "### Visualization and Multidimensional Scaling with PCA\n",
    "***\n",
    "\n",
    "I picked PCA over TSNE (T-distributed stochastic neighbor embedding) because TSNE only forms clusters when data is non-sparse. While I do have a sizeable amount of data, it was not enough for it to form clusters when passed through TSNE algorithm. Therefore, I decided to go ahead with PCA."
   ]
  },
  {
   "cell_type": "markdown",
   "metadata": {},
   "source": [
    "#### Principal Component Analysis"
   ]
  },
  {
   "cell_type": "markdown",
   "metadata": {},
   "source": [
    "I have used Principle Component Analysis (PCA) which is a form of feature extraction for reduced dimensionality of data. It works by separating points as far as possible. It tells us three things:\n",
    "\n",
    "1. Direction in which our data is dispersed\n",
    "2. How each variable is associated with one another \n",
    "3. Relative importance of different directions. \n",
    "\n",
    "The code below plots our Word2Vec word model on a 2D graph. Although not shown here, the points are plotted in relation to a \"best fit line\". PCA will find the best line that both maximizes the variance as well as minimizes distance error (difference between best-fit line and data point). I will be interpreting the data on the bases of (2) which is to analyze clusters of words on the graph. The distance between words indicates which words are closest together in 2D space."
   ]
  },
  {
   "cell_type": "code",
   "execution_count": 66,
   "metadata": {},
   "outputs": [
    {
     "data": {
      "image/png": "[encoded data removed]",
      "text/plain": [
       "<Figure size 1440x720 with 1 Axes>"
      ]
     },
     "metadata": {},
     "output_type": "display_data"
    }
   ],
   "source": [
    "# Define parameters of our PCA\n",
    "\n",
    "# Just look at the first two dimensions - the X and Y axes\n",
    "\n",
    "for_pca = PCA(n_components = 2)\n",
    "pca_out = for_pca.fit_transform(features)\n",
    "plt.rcParams.update({'font.size': 6})\n",
    "plt.rcParams.update({'figure.figsize':(20,10)})\n",
    "vocab = list(model.wv.vocab)\n",
    "X = model[vocab]\n",
    "for_pca = PCA(n_components = 2, random_state= 5)\n",
    "pca_out = for_pca.fit_transform(features)\n",
    "df = pd.DataFrame(pca_out, index=vocab, columns=['x', 'y'])\n",
    "fig = plt.figure()\n",
    "ax = fig.add_subplot(1, 1, 1)\n",
    "ax.scatter(df['x'], df['y'],s=6, color = 'deeppink')\n",
    "for word, pos in df.iterrows():\n",
    "    ax.annotate(word, pos)\n",
    "#plt.savefig('PCA Word2vec Plots.png', dpi = 240, bbox_inches='tight')\n"
   ]
  },
  {
   "cell_type": "markdown",
   "metadata": {},
   "source": [
    "# RESULTS "
   ]
  },
  {
   "cell_type": "markdown",
   "metadata": {},
   "source": [
    "\n",
    "![image info](images/match.png \"Pick the Odd one\")"
   ]
  },
  {
   "cell_type": "markdown",
   "metadata": {},
   "source": [
    "![image info](images/num1.png \"Similarity\")\n",
    "![image info](images/num2.png \"Similarity\")\n",
    "![image info](images/num3.png \"Similarity\")"
   ]
  },
  {
   "cell_type": "markdown",
   "metadata": {},
   "source": [
    "# DISCUSSION\n",
    "***"
   ]
  },
  {
   "cell_type": "markdown",
   "metadata": {},
   "source": [
    "## Limitations of Data\n",
    "\n",
    "**SIZE OF DATASET**\n",
    "The biggest problem that I had with Word2Vec. Every time I ran my model, it would give me different outputs. A standard analysis become near-impossible. I tried to modify the parameters in order to run the model in a deterministic manner (fixed worker = 1, seed, custom hash function etc.) However, nothing worked. According to FAQs on the RaRe technologies GitHub, Word2Vec does that when the data used to train the model is too little. In this case, I thought it would be best to include some outputs that I had received while working on my project and analyze them. \n",
    "\n",
    "**REPRESENTATIVENESS OF DATA**\n",
    "To talk a little more about the assumptions I have made for this topic, it is important to keep in mind that the population sampled in this survey would not be absolutely representative of the Indian population OR education system. The demographics of the survey participants show that they are primarily from well-developed metropolitan areas (Mumbai). India is extremely diverse as a nation and there are many pockets even within uniform states where the differences (both ideological and tangible) between the rural and urban are massive. Additionally, the female dominated gender identity in this data set could have affected many parts of the responses such as the ratings of importance of the topics to be included in school curriculum as well as the free response data. I believe females would have naturally voted topics such as Sexual Harassment in Workplace etc. higher than others since it is directly relevant to their gender identity. Similarly, a large proportion of the textual data could have been dominated by female driven experiences.\n",
    "\n",
    "## Discussion\n",
    "\n",
    "An important insight for me was the merits of keeping data analysis always at the back of mine while designing surveys or interviews in order to get the best formatted data that will likely save you time when you begin to work on it. When I started this survey, I had not thought through what I hope to achieve by the end of it and thus received data that required manual clean up and standardization before I could begin to process it.\n",
    "\n",
    "The Perceptual data indicates a strong trend of the youth perceiving lack of information in essential topics related directly or indirectly to sexual education, particularly in the frequency with which they are covered in school. The topics extracted from the LDA Model serve to show the discontent with the current educational curriculum regarding these topics. It is not possible to ignore the fact that youth aren't getting the sexual education that they want in India, and policymakers can no longer hide under the excuse that the students don't want to learn it. I hope my project serves to highlight that not providing accurate, frequent information to the youth on topics that they believe are important in a school curriculum will lead to them turning to less reliable sources such as the internet and entertainment media in order to fill that information gap. This is detrimental to their development into responsible, openminded and well-adjusted adults.\n",
    "\n",
    "While the survey may not have been completely representative of the target population i.e. the youth of India, it does satisfy its aim of gathering data for a _preliminary_ survey on youth perception. In my opinion, the Demographic and Perceptual Survey Data (the first sections of the notebooks) should be given the most importance due to their objectivity and forced-choice answer design. The textual analysis of the free response should be used as a supplementary resource to back up the results obtained from the first two sections. This would be the best course of action since the Textual Analysis provides us with a \"Big Picture\" view of the entire dataset along with interpretations of word frequency and similarity and the Demographic/Perceptual Data gives us a metric to weigh the fissure that exists between what the youth want to know and think is important, and their perception of how much of it they are getting in their school environments.  \n",
    "\n",
    "\n",
    "## Future Direction\n",
    "\n",
    "The next step would be to present the project and data to Educational Reform institutions in India or Educational Technology companies to make them aware of this knowledge gap that seems to exist within the youth community in India. I believe that they would have the additional resources and expertise that I could use to carry out more surveys and eventually use the data to curate a State (or Central Government) mandated sexual education curriculum for the Indian Certificate of Secondary Education (ICSE) Board, that is dominated by content that the youth is interested in learning about. This curriculum will require faculty to undergo training and participate in workshops to sensitize them to issues that they are out of touch with, before they are allowed to teach them in schools.\n",
    "***"
   ]
  },
  {
   "cell_type": "markdown",
   "metadata": {},
   "source": [
    "# WORKS CITED"
   ]
  },
  {
   "cell_type": "markdown",
   "metadata": {},
   "source": [
    "Muzzall, Evan. Notebook Week 5 (Topic Modeling).\n",
    "\n",
    "Dave, Pranay. “PCA vs TSNE - El Clásico.” Medium, Towards Data Science, 30 May 2020, [Link](towardsdatascience.com/pca-vs-tsne-el-cl%C3%A1sico-9948181a5f87.) \n",
    "\n",
    "Tran, Khuyen. “How to Solve Analogies with Word2Vec.” Medium, Towards Data Science, 29 Mar. 2020, [Link](towardsdatascience.com/how-to-solve-analogies-with-word2vec-6ebaf2354009)\n",
    "\n",
    "Kulshrestha, Ria. “NLP 101: Word2Vec - Skip-Gram and CBOW.” Medium, Towards Data Science, 19 June 2020,[Link](towardsdatascience.com/nlp-101-word2vec-skip-gram-and-cbow-93512ee24314).\n",
    "\n",
    "Amipara, Kevin. “Better Visualization of Pie Charts by MatPlotLib.” Medium, Medium, 20 Nov. 2019, [Link](medium.com/@kvnamipara/a-better-visualisation-of-pie-charts-by-matplotlib-935b7667d77f).\n",
    "\n",
    "Li, Zhi. “A Beginner's Guide to Word Embedding with Gensim Word2Vec Model.” Medium, Towards Data Science, 1 June 2019,[Link](towardsdatascience.com/a-beginners-guide-to-word-embedding-with-gensim-word2vec-model-5970fa56cc92).\n",
    "\n",
    "Scott, William. “TF-IDF for Document Ranking from Scratch in Python on Real World Dataset.” Medium, Towards Data Science, 21 May 2019, [Link](towardsdatascience.com/tf-idf-for-document-ranking-from-scratch-in-python-on-real-world-dataset-796d339a4089).\n",
    "\n",
    "Brems, Matt. “A One-Stop Shop for Principal Component Analysis.” Medium, Towards Data Science, 10 June 2019, [Link](towardsdatascience.com/a-one-stop-shop-for-principal-component-analysis-5582fb7e0a9c).\n",
    "\n",
    "jeffd23. “Visualizing Word Vectors with t-SNE.” Kaggle, Kaggle, 18 Mar. 2017, [Link](www.kaggle.com/jeffd23/visualizing-word-vectors-with-t-sne).\n",
    "\n",
    "alvasalvas, et al. “Ensure the Gensim Generate the Same Word2Vec Model for Different Runs on the Same Data.” Stack Overflow, 1 Aug. 1965,  [Link](stackoverflow.com/questions/34831551/ensure-the-gensim-generate-the-same-word2vec-model-for-different-runs-on-the-sam).\n",
    "\n",
    "Gaudard, Olivier. “#11 Grouped Barplot.” The Python Graph Gallery, 7 Sept. 2017, [Link](python-graph-gallery.com/11-grouped-barplot/).\n",
    "\n",
    "Raul GonzalesRaul Gonzales et al. “Cant Plot Seaborn Graphs Side by Side.” Stack Overflow, 1 May 1969, [Link](stackoverflow.com/questions/58624647/cant-plot-seaborn-graphs-side-by-side).\n",
    "\n",
    "DreamsDreams and Niels JoaquinNiels Joaquin 1. “Visualise word2vec Generated from Gensim.” Stack Overflow, 1 Dec. 1966, [Link](stackoverflow.com/questions/43776572/visualise-word2vec-generated-from-gensim).\n",
    "\n",
    "oceandyeoceandye and CathyQianCathyQian. “How Do I Save Word Cloud as .Png in Python?” Stack Overflow, 1 Apr. 1968, [Link](stackoverflow.com/questions/52464932/how-do-i-save-word-cloud-as-png-in-python).\n",
    "\n",
    "Robert FrankeRobert Franke et al. “Save a Subplot in Matplotlib.” Stack Overflow, 1 June 1960, [Link](stackoverflow.com/questions/4325733/save-a-subplot-in-matplotlib).\n",
    "\n",
    "Zagorax, et al. “What Is the Operation behind the Word Analogy in Word2vec?” Stack Overflow, 1 Apr. 1968, [Link](stackoverflow.com/questions/52364632/what-is-the-operation-behind-the-word-analogy-in-word2vec).\n",
    "\n",
    "alvasalvas “Interpreting Negative Word2Vec Similarity from Gensim.” Stack Overflow, 1 Sept. 1966, [Link](stackoverflow.com/questions/42381902/interpreting-negative-word2vec-similarity-from-gensim).\n",
    "\n",
    "ShaktiShakti “How to Run Tsne on word2vec Created from Gensim?” Stack Overflow, 1 June 1966,[Link](stackoverflow.com/questions/40581010/how-to-run-tsne-on-word2vec-created-from-gensim)."
   ]
  },
  {
   "cell_type": "code",
   "execution_count": null,
   "metadata": {},
   "outputs": [],
   "source": []
  }
 ],
 "metadata": {
  "kernelspec": {
   "display_name": "Python 3",
   "language": "python",
   "name": "python3"
  },
  "language_info": {
   "codemirror_mode": {
    "name": "ipython",
    "version": 3
   },
   "file_extension": ".py",
   "mimetype": "text/x-python",
   "name": "python",
   "nbconvert_exporter": "python",
   "pygments_lexer": "ipython3",
   "version": "3.7.6"
  }
 },
 "nbformat": 4,
 "nbformat_minor": 4
}
