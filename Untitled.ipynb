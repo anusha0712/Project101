{
 "cells": [
  {
   "cell_type": "code",
   "execution_count": 1,
   "metadata": {},
   "outputs": [],
   "source": [
    "#!pip install pyLDAvis\n",
    "#!pip install wordcloud\n",
    "from collections import Counter\n",
    "import gensim\n",
    "import matplotlib.pyplot as plt\n",
    "%matplotlib inline\n",
    "import nltk\n",
    "from nltk.corpus import stopwords\n",
    "from nltk.corpus import movie_reviews\n",
    "import numpy as np\n",
    "import os\n",
    "import pandas as pd\n",
    "import pyLDAvis.sklearn\n",
    "import re\n",
    "import seaborn as sns\n",
    "from sklearn.model_selection import cross_val_score, train_test_split\n",
    "from sklearn.decomposition import LatentDirichletAllocation, PCA\n",
    "from sklearn.linear_model import LogisticRegression\n",
    "from sklearn.feature_extraction.text import CountVectorizer, TfidfVectorizer, TfidfTransformer\n",
    "from sklearn.pipeline import Pipeline\n",
    "from sklearn.utils import shuffle\n",
    "import spacy\n",
    "from wordcloud import WordCloud\n",
    "\n",
    "import warnings\n",
    "warnings.filterwarnings(\"ignore\", category=DeprecationWarning)"
   ]
  },
  {
   "cell_type": "code",
   "execution_count": 45,
   "metadata": {},
   "outputs": [
    {
     "data": {
      "text/plain": [
       "'/Users/anushasubramanian/Desktop/DIGHUM101-2020/Notebooks/Week5'"
      ]
     },
     "execution_count": 45,
     "metadata": {},
     "output_type": "execute_result"
    }
   ],
   "source": [
    "# Where am I?\n",
    "%pwd"
   ]
  },
  {
   "cell_type": "code",
   "execution_count": 46,
   "metadata": {},
   "outputs": [],
   "source": [
    "survey = pd.read_csv(\"../../../Education_survey.csv\")"
   ]
  },
  {
   "cell_type": "code",
   "execution_count": 47,
   "metadata": {
    "scrolled": true
   },
   "outputs": [
    {
     "data": {
      "text/html": [
       "<div>\n",
       "<style scoped>\n",
       "    .dataframe tbody tr th:only-of-type {\n",
       "        vertical-align: middle;\n",
       "    }\n",
       "\n",
       "    .dataframe tbody tr th {\n",
       "        vertical-align: top;\n",
       "    }\n",
       "\n",
       "    .dataframe thead th {\n",
       "        text-align: right;\n",
       "    }\n",
       "</style>\n",
       "<table border=\"1\" class=\"dataframe\">\n",
       "  <thead>\n",
       "    <tr style=\"text-align: right;\">\n",
       "      <th></th>\n",
       "      <th>Timestamp</th>\n",
       "      <th>Age</th>\n",
       "      <th>Gender Identity</th>\n",
       "      <th>Sexuality</th>\n",
       "      <th>Religious Affiliation</th>\n",
       "      <th>High School Attended</th>\n",
       "      <th>High School City</th>\n",
       "      <th>School Zipcode</th>\n",
       "      <th>High School Grad Year</th>\n",
       "      <th>Education Level</th>\n",
       "      <th>...</th>\n",
       "      <th>Extent Sex Ed</th>\n",
       "      <th>Extent Gender Identity</th>\n",
       "      <th>Extent Menstruation</th>\n",
       "      <th>Extent Finplan</th>\n",
       "      <th>Extent Landscape</th>\n",
       "      <th>Extent Cyber Crime</th>\n",
       "      <th>Sexual Policing</th>\n",
       "      <th>Free Response</th>\n",
       "      <th>Perceived Benefit</th>\n",
       "      <th>Add Comments</th>\n",
       "    </tr>\n",
       "  </thead>\n",
       "  <tbody>\n",
       "    <tr>\n",
       "      <th>0</th>\n",
       "      <td>5/8/2020 18:36:22</td>\n",
       "      <td>21</td>\n",
       "      <td>Female</td>\n",
       "      <td>Heterosexual</td>\n",
       "      <td>Spiritual</td>\n",
       "      <td>AVM - Mumbai, JNIS - Mumbai, USC - Los Angeles</td>\n",
       "      <td>Mumbai</td>\n",
       "      <td>40050</td>\n",
       "      <td>2015</td>\n",
       "      <td>Bachelor's</td>\n",
       "      <td>...</td>\n",
       "      <td>Occasionally</td>\n",
       "      <td>Never</td>\n",
       "      <td>Never</td>\n",
       "      <td>Rarely</td>\n",
       "      <td>Rarely</td>\n",
       "      <td>Rarely</td>\n",
       "      <td>Maybe</td>\n",
       "      <td>In India (Mumbai) it was introduced very brief...</td>\n",
       "      <td>It will definitely make a difference</td>\n",
       "      <td>NaN</td>\n",
       "    </tr>\n",
       "    <tr>\n",
       "      <th>1</th>\n",
       "      <td>5/8/2020 18:37:12</td>\n",
       "      <td>19</td>\n",
       "      <td>Male</td>\n",
       "      <td>bisexual</td>\n",
       "      <td>Atheist</td>\n",
       "      <td>Calcutta International School -Till 7th grade ...</td>\n",
       "      <td>Calcutta, Dehradun</td>\n",
       "      <td>248001</td>\n",
       "      <td>2016</td>\n",
       "      <td>Bachelor's</td>\n",
       "      <td>...</td>\n",
       "      <td>Rarely</td>\n",
       "      <td>Never</td>\n",
       "      <td>Never</td>\n",
       "      <td>Rarely</td>\n",
       "      <td>Occasionally</td>\n",
       "      <td>Frequently</td>\n",
       "      <td>Yes</td>\n",
       "      <td>Being in an all-boys school, I think they took...</td>\n",
       "      <td>It will definitely make a difference</td>\n",
       "      <td>NaN</td>\n",
       "    </tr>\n",
       "    <tr>\n",
       "      <th>2</th>\n",
       "      <td>5/8/2020 18:40:06</td>\n",
       "      <td>19</td>\n",
       "      <td>Female</td>\n",
       "      <td>Heterosexual</td>\n",
       "      <td>Agnostic</td>\n",
       "      <td>AVM</td>\n",
       "      <td>Mumbai</td>\n",
       "      <td>400050</td>\n",
       "      <td>2016</td>\n",
       "      <td>Bachelor's</td>\n",
       "      <td>...</td>\n",
       "      <td>Never</td>\n",
       "      <td>Never</td>\n",
       "      <td>Never</td>\n",
       "      <td>Rarely</td>\n",
       "      <td>Never</td>\n",
       "      <td>Never</td>\n",
       "      <td>Yes</td>\n",
       "      <td>Not well</td>\n",
       "      <td>It could make a difference</td>\n",
       "      <td>NaN</td>\n",
       "    </tr>\n",
       "    <tr>\n",
       "      <th>3</th>\n",
       "      <td>5/8/2020 18:41:39</td>\n",
       "      <td>19</td>\n",
       "      <td>Female</td>\n",
       "      <td>Heterosexual</td>\n",
       "      <td>Religious</td>\n",
       "      <td>Arya Vidya Mandir BW , Mumbai. Pace science ju...</td>\n",
       "      <td>Mumbai</td>\n",
       "      <td>400050</td>\n",
       "      <td>2016</td>\n",
       "      <td>Bachelor's</td>\n",
       "      <td>...</td>\n",
       "      <td>Rarely</td>\n",
       "      <td>Never</td>\n",
       "      <td>Rarely</td>\n",
       "      <td>Rarely</td>\n",
       "      <td>Never</td>\n",
       "      <td>Rarely</td>\n",
       "      <td>Yes</td>\n",
       "      <td>It was a brief and short seminar that just hig...</td>\n",
       "      <td>It will definitely make a difference</td>\n",
       "      <td>NaN</td>\n",
       "    </tr>\n",
       "    <tr>\n",
       "      <th>4</th>\n",
       "      <td>5/8/2020 18:42:42</td>\n",
       "      <td>19</td>\n",
       "      <td>Female</td>\n",
       "      <td>Heterosexual</td>\n",
       "      <td>Religious</td>\n",
       "      <td>Beacon high, JNIS - IB (Mumbai)</td>\n",
       "      <td>Mumbai</td>\n",
       "      <td>400052</td>\n",
       "      <td>2016</td>\n",
       "      <td>Bachelor's</td>\n",
       "      <td>...</td>\n",
       "      <td>Never</td>\n",
       "      <td>Never</td>\n",
       "      <td>Never</td>\n",
       "      <td>Never</td>\n",
       "      <td>Never</td>\n",
       "      <td>Rarely</td>\n",
       "      <td>Yes</td>\n",
       "      <td>Schools merely did this in order to justify th...</td>\n",
       "      <td>It will definitely make a difference</td>\n",
       "      <td>NaN</td>\n",
       "    </tr>\n",
       "  </tbody>\n",
       "</table>\n",
       "<p>5 rows × 33 columns</p>\n",
       "</div>"
      ],
      "text/plain": [
       "           Timestamp  Age Gender Identity       Sexuality  \\\n",
       "0  5/8/2020 18:36:22   21          Female   Heterosexual    \n",
       "1  5/8/2020 18:37:12   19            Male        bisexual   \n",
       "2  5/8/2020 18:40:06   19          Female   Heterosexual    \n",
       "3  5/8/2020 18:41:39   19          Female   Heterosexual    \n",
       "4  5/8/2020 18:42:42   19          Female  Heterosexual     \n",
       "\n",
       "  Religious Affiliation                               High School Attended   \\\n",
       "0              Spiritual     AVM - Mumbai, JNIS - Mumbai, USC - Los Angeles   \n",
       "1                Atheist  Calcutta International School -Till 7th grade ...   \n",
       "2               Agnostic                                                AVM   \n",
       "3              Religious  Arya Vidya Mandir BW , Mumbai. Pace science ju...   \n",
       "4              Religious                    Beacon high, JNIS - IB (Mumbai)   \n",
       "\n",
       "      High School City  School Zipcode  High School Grad Year   \\\n",
       "0               Mumbai           40050                    2015   \n",
       "1  Calcutta, Dehradun           248001                    2016   \n",
       "2               Mumbai          400050                    2016   \n",
       "3               Mumbai          400050                    2016   \n",
       "4               Mumbai          400052                    2016   \n",
       "\n",
       "  Education Level   ... Extent Sex Ed  Extent Gender Identity  \\\n",
       "0       Bachelor's  ...  Occasionally                   Never   \n",
       "1       Bachelor's  ...        Rarely                   Never   \n",
       "2       Bachelor's  ...         Never                   Never   \n",
       "3       Bachelor's  ...        Rarely                   Never   \n",
       "4       Bachelor's  ...         Never                   Never   \n",
       "\n",
       "   Extent Menstruation  Extent Finplan  Extent Landscape  Extent Cyber Crime  \\\n",
       "0                Never          Rarely            Rarely              Rarely   \n",
       "1                Never          Rarely      Occasionally          Frequently   \n",
       "2                Never          Rarely             Never               Never   \n",
       "3               Rarely          Rarely             Never              Rarely   \n",
       "4                Never           Never             Never              Rarely   \n",
       "\n",
       "   Sexual Policing                                       Free Response  \\\n",
       "0             Maybe  In India (Mumbai) it was introduced very brief...   \n",
       "1               Yes  Being in an all-boys school, I think they took...   \n",
       "2               Yes                                           Not well   \n",
       "3               Yes  It was a brief and short seminar that just hig...   \n",
       "4               Yes  Schools merely did this in order to justify th...   \n",
       "\n",
       "                      Perceived Benefit  Add Comments  \n",
       "0  It will definitely make a difference           NaN  \n",
       "1  It will definitely make a difference           NaN  \n",
       "2            It could make a difference           NaN  \n",
       "3  It will definitely make a difference           NaN  \n",
       "4  It will definitely make a difference           NaN  \n",
       "\n",
       "[5 rows x 33 columns]"
      ]
     },
     "execution_count": 47,
     "metadata": {},
     "output_type": "execute_result"
    }
   ],
   "source": [
    "survey.head()"
   ]
  },
  {
   "cell_type": "code",
   "execution_count": 48,
   "metadata": {},
   "outputs": [
    {
     "data": {
      "text/plain": [
       "['In India (Mumbai) it was introduced very briefly and done in a manner that boys and girls had separate trainings. This sort of defeated the point of normalizing sex related topics as we were not allowed to discuss it freely. In LA, these topics were more normalized (especially via mandatory trainings and online courses that had to be fulfilled prior to beginning freshman year courses).',\n",
       " 'Being in an all-boys school, I think they took this pretty casually as it was so commonplace.']"
      ]
     },
     "execution_count": 48,
     "metadata": {},
     "output_type": "execute_result"
    }
   ],
   "source": [
    "response = list(survey[\"Free Response\"])\n",
    "response[0:2]"
   ]
  },
  {
   "cell_type": "code",
   "execution_count": 49,
   "metadata": {},
   "outputs": [
    {
     "data": {
      "text/plain": [
       "['in india mumbai it was introduced very briefly and done in a manner that boys and girls had separate trainings this sort of defeated the point of normalizing sex related topics as we were not allowed to discuss it freely in la these topics were more normalized especially via mandatory trainings and online courses that had to be fulfilled prior to beginning freshman year courses',\n",
       " 'being in an allboys school i think they took this pretty casually as it was so commonplace']"
      ]
     },
     "execution_count": 49,
     "metadata": {},
     "output_type": "execute_result"
    }
   ],
   "source": [
    "from string import punctuation\n",
    "text_processed = []\n",
    "for r in response:\n",
    "    for char in punctuation:\n",
    "        r = r.lower().replace(char,\"\")\n",
    "    text_processed.append(r)\n",
    "text_processed[0:2]"
   ]
  },
  {
   "cell_type": "code",
   "execution_count": 50,
   "metadata": {},
   "outputs": [
    {
     "data": {
      "text/plain": [
       "'in india mumbai it was introduced very briefly and done in a manner that boys and girls had separate trainings this sort of defeated the point of normalizing sex related topics as we were not allowed to discuss it freely in la these topics were more normalized especially via mandatory trainings and online courses that had to be fulfilled prior to beginning freshman year courses,being in an allboys school i think they took this pretty casually as it was so commonplace,not well,it was a brief and short seminar that just highlighted the important points related to the topic discussed frankly those sessions could have been conducted much better,schools merely did this in order to justify their inclusion of nonacademic subjects in the curriculum without actually acknowledging the importance of teaching them this was reflected in their inefficiency  inability to actually teach or convey what they tried to to furthermore teachers and staff themselves were too conservative  unaware  uncomfortable fully against these topics being explored  resulting all workshops being used as a solution to problems rather than preventive redness before problems,not skillfully they were approached as a formality,pretty much self learnt mentored by senior students,there were sessions held on good touch and bad touch at a very impressionable age which was much needed but yet it stopped once we reached 8th grade how mental health affects children was never discussed it was never given importance till date making sure girls were covered and wore clothes which never went above the knee length is given utmost importance in our school though there was no discrimination in terms of sports there was always women empowerment having studied in a religious school talks of gender identity was never considered to have a differing opinion financial planning was never discussed our history teacher always discussed the sociopolitical stance of different countries and our history so that was commendable,had workshops \\nhad a class called life skills from grade 7 to grade 11 which covered such topics,broadly,with social stigma,not at all,scientifically if sexual otherwise not tackled,they tried to talk to us about it by showing us some ppt and a video but never really got into details,none of them were touched upon to a sufficient extent,tokenistically in a detached manner,these topics were never avoided at my institution when they came up however they were rarely deliberately addressed,quite awfully the few people that wanted to conduct workshops to help were attacked by teachers everything was taboo and i really wish that more care was given to teach us this stuff in our formative years,covered at a surface level,they were addressed in a psych course that talked about gender roles and how were able to change gender norms but thats about it,i think the topics the few that were actually spoken about were approached at a very surface level so that i was made aware of these terms but didn’t have a deep understanding of the same,there was a good effort in promoting these ideas but there was barely any action,superficially,when such issues came up they were brushed under the carpet when discussions on these topics were encouraged in school they merely scratched the surface deemed to be “sensitive topics” the discussions were often dumbed down and the right terminology was never used considered to be inappropriate in a school environment eg orgasms issues addressing stds  while talking about safe and consensual sex,werent approached seriously,they were discussed but there was still a slight stigma around them,they werent really covered,very vague minimal discussions if it was spoken about,faculty never seemed open or willing to discuss these things they were considered important enough,not much,many of them were not,they were never really discussed,extremely ineffectively schools definitely need to incorporate all the topics listed above more in their curriculum,most of the topics were not addressed,these things are told pretty straight up,they weren’t very receptive to these topics,insufficiently,very naively like it’s a taboo to even talk about,not as badly as they are in other schools,gender roles were firmly reinforced and those who didnt conform were picked on by teachers,they werent really touched upon at all,most faculty at school turned a blind eye to it and the ones who did care seemed very cynical about the situation “what can we do”  it’s a big institution and they don’t have the authority for taking certain actions \\njokes  very controversial and important what is considered a joke what is offensive and when do you draw the line \\nbut this won’t happen through teaching so again changing the mentality of students from a young age which is always tough because the teacher has to believe in it enough to convey it to the students\\nlot of discrimination in sports,i think the worst part was that if you showed interest in any of these topics or longed for a healthy discussion on it  it was actually looked down upon and you were penalized for it as opposed to being supported and encouraged,the teachers assume the status of the respected elder who must not be questioned and all they speak must be accepted without debate,most of the topics werent emphasized upon enough,conservatively by people in power more liberally on a teacher to teacher level,by not just seminars or programs but also while teaching moreover to he introduced in syllabus rather and maybe in rule books or something i dont know,smaller randomized group discussions,extremely conservatively  girls werent allowed to wear sleevelessshort clothes there were restrictions on hairstyles as well,most of them not approached at all,i changed schools after grade 8 i was appointed sports captain of the school in class 12 i wanted to create a girls football team because i knew there were a lot of girls who were keen to play and many with brilliant accolades for example many of the girls had played at national and international levels these qualifications only made it more important for the school to have a team for girls but all the training effort and appreciation went for the boys team when i addressed this no one was keen neither the teachers nor the rest of the council members in fact the other sports captain boys who was part of the boys football team went on to say that the girls are no interested why should the coach waste their time on them it was really disappointing,these topics were pretty much not discussed we had one session of sex education with a doctor in 11 grade which in my opinion is a little late to have it,weren’t covered as much as they should have been,these topics were barely touched in our school and hence made the transition to college very different i felt uneducated on these topics,only mentioned if a related incident took place the response also wasn’t always well informed,by teachers just making these comments either consciously or subconsciously,as a form of punishment as opposed to something that is taught,covered better than most schools but should be covered even more,the topics were only introduced  to those who the teachers thought were the students concerned while in fact the topic should have been broached with everyone \\nassembly settings made it more generic than classroom which allowed more emphasis and understanding\\nstudents talking about the same topic had more impact than teachers talking about the same topic,usually talked about as a joke everyone knew sexism was wrong but it was always seen as separate from our environment a we are not like that mentality,they werent these are topics that are fundamental to a student before going to college,there have literally just been two occasions in my school life once in 6th and the second in 9th where they tried to tech us about these topics additionally those sessions were not very effective,the school trust was orthodox to a certain degree and that reflected in the way the approached topics such as any of the above some we’re still stigmatized like sex education and some were just simply not spoken about like financial planning as much as they did try to embrace the ‘coed culture’ they were wary about it too even something as basic as teaching boys and girls things like menstruation were conducted separately which is where i think the indian education system falters not just at my ‘alma mater’ but everywhere else too,not said ,most of them weren’t covered we only had a sex education class early on in 6th grade never touched upon again,in my school people mostly used to shy away from these topics the words “periods” “gay” “sex” were generally terms that made people giggle our school did try to tackle maybe 1 or 2 of them but definitely not to their best of their ability they failed to normalize periods homosexuality and sex moreover they could never prevent or handle bullying well it was always suspensionexpulsion but never correction,occasionally,menstruation was explained only to the girls at school while they boys were asked to go for a games period dont wear colored bras under your while tshirt,very appropriately via industry experts,ok,most of the topics related to mental health etc were approached to us by our school councilor who would organize sessions for us once in a while we had a cyber crime and sex education session by once,we had a group of ngo members or counselor from different places,growing up in the same institution through the years i now realize that the topics aforementioned were never really discussed freely or ever discussed,menstruation was a topic that was indeed covered in our school but it was done in a very conservative way separating the boys and girls and taking them into different rooms and then explained in a rather awkward than a natural way sexual health is never spoken about and is often ignored in india and i believe it must be something that should be addressed to make sure the students know whats right and wrong from them and their health,rarely we would have 20 minute discussions if need be which is very disappointing,not talked about much,20 minute discussions,these topics were rarely discussed in our school as far as i remember we just had only one seminar that too of 1 hour in class 5 about menstrual hygiene other than that we used to have a subject called moral science which was somewhat helpful for mental health and awareness,they were not,through seminars,keyword optional programs held in school by people not affiliated with the school some compulsory seminars in middle school sometimes just coincidentally by some particular teacher mentioning it,they just werent deemed important any mention of such things would be taboo kids dont need to learn about financial planning because theyre kids but were expected to somehow suddenly know them as teenagers and adults,these topic were rarely talked about only when we had speakers come to our school or its mostly by our counsellor,they would call some volunteers from such fields to give us information,i think through seminars or webinars,some of these topics were most definitely overlooked and not put on a pedestal which i feel is incorrect the environment isn’t liberal or open enough to discuss how to tackle these issues which is why a lot of times students in crises are helpless as schools don’t consider the issues important these students often feel neglected as their personal issues aren’t deemed to be “of utmost importance” \\nfor a lot of the other issues schools tend to avoid addressing them on grounds of them being “controversial” they dissuade students from voicing their opinion out of fear that the topic is too “sensitive” and creates unnecessary “buzz”,by being open with students,few topics were taught and explained very well but few were not at all taught which i feel is very necessary i feel all these points are very imp in order to have a good perspective towards life which every school should follow,rarely,these topics were spoken freely by the teachers in their normal classes  even if we asked them to discuss a topic  they would never hesitate  in mount carmel pu college we even have value education classes once a week in which we discuss the problems faced by teens  gender equality  harassment and others,girls should know how they dress and how they walk and should be conscious of everything around them,these topics were rarely discussed  we never really spoke about it because most of us didnt face such severe problems or issues  but if some of them did i dont think they ever tried to generally discuss it with everyone,they very never the things teachers were interested in talking vocational training had to value,i hv never been through this discrimination cuz my institution teaches us about equal opportunity and rights,i dont think these topic were ever had been spoken in school because i studied in coed but now im in college girls college we speak a lot about everything,my school rarely taught me any of this,they tried their best under the envelope of being a religious institution,i think some teachers were pretty old school and didnt like acknowledging things i know of a few people holding positions of authority shaming girls for looking a certain way or wearing a certain things or speaking a certain way staff room gossip is real other than that in most if not all cases of sexual harassment the boy was often let go without any social or disciplinary repercussions while the girl always faced social and sometimes even disciplinary repercussions in one of the cases of sexual intimacy it was consensual but happened on school property the girl faced severe repercussions while the boy got away with it,i guess schools have certain rules and regulations which should be followed if anyone does not obey them then they should be approached irrespective of their gender my school believed in equality of gender so both guys as well as girls were told to obey the rules and one shouldnt feel bad because of this just how a workplace has a dresscode so do schools i dont understand why is it so hard for people to follow it ,i think the educational environment upheld these in some ways by policing what girls wore for example male students could walk around shirtless play sports on the field shirtless etc but females were not allowed to do so and even sent home for wearing crop tops or skirtsshorts deemed too short i dont think this is unique to my school at all however and would say that females were actually able to have more freedom compared to other schools in mumbai other than that generally there was a judgmental environment towards female students expressing their sexuality but not towards male students,small lectures at assemblies ,they went over some of these topics mostly sexed bullying and mental health i think it was quite well covered considering we arent that mature in school so some topics may not be understood i think they should have had a more open student teacher environment where students would be comfortable talking to a grown up about these topics,i dont think i experienced it personally but saw a hint of it with classmates who wore shorter skirts,my school focuses more on academics and going by the textbook so the students very rarely learn about the mentioned topics i myself have never seen any additional effort from the board to integrate these topics into the school curriculum,the closest they couldve gotten is hitting the surface level of these topics for its somewhat common to have a stick to portion mentality or theyre uncomfortable and few may even consider it a sort of taboo,efforts were made by teachers to at least make us students aware of these topics,the school authorities were responsible for moral policing including dictating the length of the school uniform skirt and later insisting that girls’ tops should cover their hips the insistence on conforming to “safe behavior to prevent unwanted attention” was drummed into girls rather than also confronting the boys with the consequences of their actions we even had separate staircases for boys and girls between grade 8 and grade 10 to minimize conversations between the sexes the biology curriculum during grades 11 and 12 covered aspects of sex education in some detail i am not sure if the students who chose not to study biology were ever exposed to that,we could go talk about it if we needed to but most of them weren’t addressed by the school ,issues like this were never addressed they were just brushed under the carpet\\nmoving on from the situation was the only solution we were taught without the other person facing any repercussions,they were rarely approached,topics such as mental health awareness and sexual identity were not discussed in our school at all which is unfortunate there were yearly discussions on  topics like cyber crime and destigmatization of menstruation,we had a few lectures where guests spoke about topics from time to time'"
      ]
     },
     "execution_count": 50,
     "metadata": {},
     "output_type": "execute_result"
    }
   ],
   "source": [
    "# Save the \"Text_processed\" list as one long string\n",
    "long_string = ','.join(text_processed)\n",
    "long_string"
   ]
  },
  {
   "cell_type": "code",
   "execution_count": null,
   "metadata": {},
   "outputs": [],
   "source": []
  }
 ],
 "metadata": {
  "kernelspec": {
   "display_name": "Python 3",
   "language": "python",
   "name": "python3"
  },
  "language_info": {
   "codemirror_mode": {
    "name": "ipython",
    "version": 3
   },
   "file_extension": ".py",
   "mimetype": "text/x-python",
   "name": "python",
   "nbconvert_exporter": "python",
   "pygments_lexer": "ipython3",
   "version": "3.7.6"
  }
 },
 "nbformat": 4,
 "nbformat_minor": 4
}
